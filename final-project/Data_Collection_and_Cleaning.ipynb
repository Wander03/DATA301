{
  "nbformat": 4,
  "nbformat_minor": 0,
  "metadata": {
    "colab": {
      "name": "Data Collection and Cleaning.ipynb",
      "provenance": [],
      "collapsed_sections": [],
      "include_colab_link": true
    },
    "kernelspec": {
      "name": "python3",
      "display_name": "Python 3"
    },
    "language_info": {
      "name": "python"
    }
  },
  "cells": [
    {
      "cell_type": "markdown",
      "metadata": {
        "id": "view-in-github",
        "colab_type": "text"
      },
      "source": [
        "<a href=\"https://colab.research.google.com/github/Wander03/final-project-Wander03/blob/main/Data_Collection_and_Cleaning.ipynb\" target=\"_parent\"><img src=\"https://colab.research.google.com/assets/colab-badge.svg\" alt=\"Open In Colab\"/></a>"
      ]
    },
    {
      "cell_type": "code",
      "execution_count": null,
      "metadata": {
        "id": "IJaDK6RxMnSr"
      },
      "outputs": [],
      "source": [
        "import pandas as pd\n",
        "import requests\n",
        "import json\n",
        "from pandas.io.json import json_normalize\n",
        "import time"
      ]
    },
    {
      "cell_type": "markdown",
      "source": [
        "Data From Kaggle"
      ],
      "metadata": {
        "id": "K5l-jFy8digH"
      }
    },
    {
      "cell_type": "code",
      "source": [
        "df_train_essays = pd.read_csv(\"training_set_rel3.txt\", sep=\"\\t\", encoding='latin_1')"
      ],
      "metadata": {
        "id": "6nOUFvdKSDD0",
        "outputId": "1d32ca3d-14db-4879-98ab-92d0662ca6f5",
        "colab": {
          "base_uri": "https://localhost:8080/",
          "height": 326
        }
      },
      "execution_count": null,
      "outputs": [
        {
          "output_type": "error",
          "ename": "FileNotFoundError",
          "evalue": "ignored",
          "traceback": [
            "\u001b[0;31m---------------------------------------------------------------------------\u001b[0m",
            "\u001b[0;31mFileNotFoundError\u001b[0m                         Traceback (most recent call last)",
            "\u001b[0;32m<ipython-input-2-ee03c054273f>\u001b[0m in \u001b[0;36m<module>\u001b[0;34m()\u001b[0m\n\u001b[0;32m----> 1\u001b[0;31m \u001b[0mdf_train_essays\u001b[0m \u001b[0;34m=\u001b[0m \u001b[0mpd\u001b[0m\u001b[0;34m.\u001b[0m\u001b[0mread_csv\u001b[0m\u001b[0;34m(\u001b[0m\u001b[0;34m\"training_set_rel3.txt\"\u001b[0m\u001b[0;34m,\u001b[0m \u001b[0msep\u001b[0m\u001b[0;34m=\u001b[0m\u001b[0;34m\"\\t\"\u001b[0m\u001b[0;34m,\u001b[0m \u001b[0mencoding\u001b[0m\u001b[0;34m=\u001b[0m\u001b[0;34m'latin_1'\u001b[0m\u001b[0;34m)\u001b[0m\u001b[0;34m\u001b[0m\u001b[0;34m\u001b[0m\u001b[0m\n\u001b[0m",
            "\u001b[0;32m/usr/local/lib/python3.7/dist-packages/pandas/util/_decorators.py\u001b[0m in \u001b[0;36mwrapper\u001b[0;34m(*args, **kwargs)\u001b[0m\n\u001b[1;32m    309\u001b[0m                     \u001b[0mstacklevel\u001b[0m\u001b[0;34m=\u001b[0m\u001b[0mstacklevel\u001b[0m\u001b[0;34m,\u001b[0m\u001b[0;34m\u001b[0m\u001b[0;34m\u001b[0m\u001b[0m\n\u001b[1;32m    310\u001b[0m                 )\n\u001b[0;32m--> 311\u001b[0;31m             \u001b[0;32mreturn\u001b[0m \u001b[0mfunc\u001b[0m\u001b[0;34m(\u001b[0m\u001b[0;34m*\u001b[0m\u001b[0margs\u001b[0m\u001b[0;34m,\u001b[0m \u001b[0;34m**\u001b[0m\u001b[0mkwargs\u001b[0m\u001b[0;34m)\u001b[0m\u001b[0;34m\u001b[0m\u001b[0;34m\u001b[0m\u001b[0m\n\u001b[0m\u001b[1;32m    312\u001b[0m \u001b[0;34m\u001b[0m\u001b[0m\n\u001b[1;32m    313\u001b[0m         \u001b[0;32mreturn\u001b[0m \u001b[0mwrapper\u001b[0m\u001b[0;34m\u001b[0m\u001b[0;34m\u001b[0m\u001b[0m\n",
            "\u001b[0;32m/usr/local/lib/python3.7/dist-packages/pandas/io/parsers/readers.py\u001b[0m in \u001b[0;36mread_csv\u001b[0;34m(filepath_or_buffer, sep, delimiter, header, names, index_col, usecols, squeeze, prefix, mangle_dupe_cols, dtype, engine, converters, true_values, false_values, skipinitialspace, skiprows, skipfooter, nrows, na_values, keep_default_na, na_filter, verbose, skip_blank_lines, parse_dates, infer_datetime_format, keep_date_col, date_parser, dayfirst, cache_dates, iterator, chunksize, compression, thousands, decimal, lineterminator, quotechar, quoting, doublequote, escapechar, comment, encoding, encoding_errors, dialect, error_bad_lines, warn_bad_lines, on_bad_lines, delim_whitespace, low_memory, memory_map, float_precision, storage_options)\u001b[0m\n\u001b[1;32m    584\u001b[0m     \u001b[0mkwds\u001b[0m\u001b[0;34m.\u001b[0m\u001b[0mupdate\u001b[0m\u001b[0;34m(\u001b[0m\u001b[0mkwds_defaults\u001b[0m\u001b[0;34m)\u001b[0m\u001b[0;34m\u001b[0m\u001b[0;34m\u001b[0m\u001b[0m\n\u001b[1;32m    585\u001b[0m \u001b[0;34m\u001b[0m\u001b[0m\n\u001b[0;32m--> 586\u001b[0;31m     \u001b[0;32mreturn\u001b[0m \u001b[0m_read\u001b[0m\u001b[0;34m(\u001b[0m\u001b[0mfilepath_or_buffer\u001b[0m\u001b[0;34m,\u001b[0m \u001b[0mkwds\u001b[0m\u001b[0;34m)\u001b[0m\u001b[0;34m\u001b[0m\u001b[0;34m\u001b[0m\u001b[0m\n\u001b[0m\u001b[1;32m    587\u001b[0m \u001b[0;34m\u001b[0m\u001b[0m\n\u001b[1;32m    588\u001b[0m \u001b[0;34m\u001b[0m\u001b[0m\n",
            "\u001b[0;32m/usr/local/lib/python3.7/dist-packages/pandas/io/parsers/readers.py\u001b[0m in \u001b[0;36m_read\u001b[0;34m(filepath_or_buffer, kwds)\u001b[0m\n\u001b[1;32m    480\u001b[0m \u001b[0;34m\u001b[0m\u001b[0m\n\u001b[1;32m    481\u001b[0m     \u001b[0;31m# Create the parser.\u001b[0m\u001b[0;34m\u001b[0m\u001b[0;34m\u001b[0m\u001b[0;34m\u001b[0m\u001b[0m\n\u001b[0;32m--> 482\u001b[0;31m     \u001b[0mparser\u001b[0m \u001b[0;34m=\u001b[0m \u001b[0mTextFileReader\u001b[0m\u001b[0;34m(\u001b[0m\u001b[0mfilepath_or_buffer\u001b[0m\u001b[0;34m,\u001b[0m \u001b[0;34m**\u001b[0m\u001b[0mkwds\u001b[0m\u001b[0;34m)\u001b[0m\u001b[0;34m\u001b[0m\u001b[0;34m\u001b[0m\u001b[0m\n\u001b[0m\u001b[1;32m    483\u001b[0m \u001b[0;34m\u001b[0m\u001b[0m\n\u001b[1;32m    484\u001b[0m     \u001b[0;32mif\u001b[0m \u001b[0mchunksize\u001b[0m \u001b[0;32mor\u001b[0m \u001b[0miterator\u001b[0m\u001b[0;34m:\u001b[0m\u001b[0;34m\u001b[0m\u001b[0;34m\u001b[0m\u001b[0m\n",
            "\u001b[0;32m/usr/local/lib/python3.7/dist-packages/pandas/io/parsers/readers.py\u001b[0m in \u001b[0;36m__init__\u001b[0;34m(self, f, engine, **kwds)\u001b[0m\n\u001b[1;32m    809\u001b[0m             \u001b[0mself\u001b[0m\u001b[0;34m.\u001b[0m\u001b[0moptions\u001b[0m\u001b[0;34m[\u001b[0m\u001b[0;34m\"has_index_names\"\u001b[0m\u001b[0;34m]\u001b[0m \u001b[0;34m=\u001b[0m \u001b[0mkwds\u001b[0m\u001b[0;34m[\u001b[0m\u001b[0;34m\"has_index_names\"\u001b[0m\u001b[0;34m]\u001b[0m\u001b[0;34m\u001b[0m\u001b[0;34m\u001b[0m\u001b[0m\n\u001b[1;32m    810\u001b[0m \u001b[0;34m\u001b[0m\u001b[0m\n\u001b[0;32m--> 811\u001b[0;31m         \u001b[0mself\u001b[0m\u001b[0;34m.\u001b[0m\u001b[0m_engine\u001b[0m \u001b[0;34m=\u001b[0m \u001b[0mself\u001b[0m\u001b[0;34m.\u001b[0m\u001b[0m_make_engine\u001b[0m\u001b[0;34m(\u001b[0m\u001b[0mself\u001b[0m\u001b[0;34m.\u001b[0m\u001b[0mengine\u001b[0m\u001b[0;34m)\u001b[0m\u001b[0;34m\u001b[0m\u001b[0;34m\u001b[0m\u001b[0m\n\u001b[0m\u001b[1;32m    812\u001b[0m \u001b[0;34m\u001b[0m\u001b[0m\n\u001b[1;32m    813\u001b[0m     \u001b[0;32mdef\u001b[0m \u001b[0mclose\u001b[0m\u001b[0;34m(\u001b[0m\u001b[0mself\u001b[0m\u001b[0;34m)\u001b[0m\u001b[0;34m:\u001b[0m\u001b[0;34m\u001b[0m\u001b[0;34m\u001b[0m\u001b[0m\n",
            "\u001b[0;32m/usr/local/lib/python3.7/dist-packages/pandas/io/parsers/readers.py\u001b[0m in \u001b[0;36m_make_engine\u001b[0;34m(self, engine)\u001b[0m\n\u001b[1;32m   1038\u001b[0m             )\n\u001b[1;32m   1039\u001b[0m         \u001b[0;31m# error: Too many arguments for \"ParserBase\"\u001b[0m\u001b[0;34m\u001b[0m\u001b[0;34m\u001b[0m\u001b[0;34m\u001b[0m\u001b[0m\n\u001b[0;32m-> 1040\u001b[0;31m         \u001b[0;32mreturn\u001b[0m \u001b[0mmapping\u001b[0m\u001b[0;34m[\u001b[0m\u001b[0mengine\u001b[0m\u001b[0;34m]\u001b[0m\u001b[0;34m(\u001b[0m\u001b[0mself\u001b[0m\u001b[0;34m.\u001b[0m\u001b[0mf\u001b[0m\u001b[0;34m,\u001b[0m \u001b[0;34m**\u001b[0m\u001b[0mself\u001b[0m\u001b[0;34m.\u001b[0m\u001b[0moptions\u001b[0m\u001b[0;34m)\u001b[0m  \u001b[0;31m# type: ignore[call-arg]\u001b[0m\u001b[0;34m\u001b[0m\u001b[0;34m\u001b[0m\u001b[0m\n\u001b[0m\u001b[1;32m   1041\u001b[0m \u001b[0;34m\u001b[0m\u001b[0m\n\u001b[1;32m   1042\u001b[0m     \u001b[0;32mdef\u001b[0m \u001b[0m_failover_to_python\u001b[0m\u001b[0;34m(\u001b[0m\u001b[0mself\u001b[0m\u001b[0;34m)\u001b[0m\u001b[0;34m:\u001b[0m\u001b[0;34m\u001b[0m\u001b[0;34m\u001b[0m\u001b[0m\n",
            "\u001b[0;32m/usr/local/lib/python3.7/dist-packages/pandas/io/parsers/c_parser_wrapper.py\u001b[0m in \u001b[0;36m__init__\u001b[0;34m(self, src, **kwds)\u001b[0m\n\u001b[1;32m     49\u001b[0m \u001b[0;34m\u001b[0m\u001b[0m\n\u001b[1;32m     50\u001b[0m         \u001b[0;31m# open handles\u001b[0m\u001b[0;34m\u001b[0m\u001b[0;34m\u001b[0m\u001b[0;34m\u001b[0m\u001b[0m\n\u001b[0;32m---> 51\u001b[0;31m         \u001b[0mself\u001b[0m\u001b[0;34m.\u001b[0m\u001b[0m_open_handles\u001b[0m\u001b[0;34m(\u001b[0m\u001b[0msrc\u001b[0m\u001b[0;34m,\u001b[0m \u001b[0mkwds\u001b[0m\u001b[0;34m)\u001b[0m\u001b[0;34m\u001b[0m\u001b[0;34m\u001b[0m\u001b[0m\n\u001b[0m\u001b[1;32m     52\u001b[0m         \u001b[0;32massert\u001b[0m \u001b[0mself\u001b[0m\u001b[0;34m.\u001b[0m\u001b[0mhandles\u001b[0m \u001b[0;32mis\u001b[0m \u001b[0;32mnot\u001b[0m \u001b[0;32mNone\u001b[0m\u001b[0;34m\u001b[0m\u001b[0;34m\u001b[0m\u001b[0m\n\u001b[1;32m     53\u001b[0m \u001b[0;34m\u001b[0m\u001b[0m\n",
            "\u001b[0;32m/usr/local/lib/python3.7/dist-packages/pandas/io/parsers/base_parser.py\u001b[0m in \u001b[0;36m_open_handles\u001b[0;34m(self, src, kwds)\u001b[0m\n\u001b[1;32m    227\u001b[0m             \u001b[0mmemory_map\u001b[0m\u001b[0;34m=\u001b[0m\u001b[0mkwds\u001b[0m\u001b[0;34m.\u001b[0m\u001b[0mget\u001b[0m\u001b[0;34m(\u001b[0m\u001b[0;34m\"memory_map\"\u001b[0m\u001b[0;34m,\u001b[0m \u001b[0;32mFalse\u001b[0m\u001b[0;34m)\u001b[0m\u001b[0;34m,\u001b[0m\u001b[0;34m\u001b[0m\u001b[0;34m\u001b[0m\u001b[0m\n\u001b[1;32m    228\u001b[0m             \u001b[0mstorage_options\u001b[0m\u001b[0;34m=\u001b[0m\u001b[0mkwds\u001b[0m\u001b[0;34m.\u001b[0m\u001b[0mget\u001b[0m\u001b[0;34m(\u001b[0m\u001b[0;34m\"storage_options\"\u001b[0m\u001b[0;34m,\u001b[0m \u001b[0;32mNone\u001b[0m\u001b[0;34m)\u001b[0m\u001b[0;34m,\u001b[0m\u001b[0;34m\u001b[0m\u001b[0;34m\u001b[0m\u001b[0m\n\u001b[0;32m--> 229\u001b[0;31m             \u001b[0merrors\u001b[0m\u001b[0;34m=\u001b[0m\u001b[0mkwds\u001b[0m\u001b[0;34m.\u001b[0m\u001b[0mget\u001b[0m\u001b[0;34m(\u001b[0m\u001b[0;34m\"encoding_errors\"\u001b[0m\u001b[0;34m,\u001b[0m \u001b[0;34m\"strict\"\u001b[0m\u001b[0;34m)\u001b[0m\u001b[0;34m,\u001b[0m\u001b[0;34m\u001b[0m\u001b[0;34m\u001b[0m\u001b[0m\n\u001b[0m\u001b[1;32m    230\u001b[0m         )\n\u001b[1;32m    231\u001b[0m \u001b[0;34m\u001b[0m\u001b[0m\n",
            "\u001b[0;32m/usr/local/lib/python3.7/dist-packages/pandas/io/common.py\u001b[0m in \u001b[0;36mget_handle\u001b[0;34m(path_or_buf, mode, encoding, compression, memory_map, is_text, errors, storage_options)\u001b[0m\n\u001b[1;32m    705\u001b[0m                 \u001b[0mencoding\u001b[0m\u001b[0;34m=\u001b[0m\u001b[0mioargs\u001b[0m\u001b[0;34m.\u001b[0m\u001b[0mencoding\u001b[0m\u001b[0;34m,\u001b[0m\u001b[0;34m\u001b[0m\u001b[0;34m\u001b[0m\u001b[0m\n\u001b[1;32m    706\u001b[0m                 \u001b[0merrors\u001b[0m\u001b[0;34m=\u001b[0m\u001b[0merrors\u001b[0m\u001b[0;34m,\u001b[0m\u001b[0;34m\u001b[0m\u001b[0;34m\u001b[0m\u001b[0m\n\u001b[0;32m--> 707\u001b[0;31m                 \u001b[0mnewline\u001b[0m\u001b[0;34m=\u001b[0m\u001b[0;34m\"\"\u001b[0m\u001b[0;34m,\u001b[0m\u001b[0;34m\u001b[0m\u001b[0;34m\u001b[0m\u001b[0m\n\u001b[0m\u001b[1;32m    708\u001b[0m             )\n\u001b[1;32m    709\u001b[0m         \u001b[0;32melse\u001b[0m\u001b[0;34m:\u001b[0m\u001b[0;34m\u001b[0m\u001b[0;34m\u001b[0m\u001b[0m\n",
            "\u001b[0;31mFileNotFoundError\u001b[0m: [Errno 2] No such file or directory: 'training_set_rel3.txt'"
          ]
        }
      ]
    },
    {
      "cell_type": "code",
      "source": [
        "df_train_essays = df_train_essays.drop(\"rater3_domain1\", axis = 1)"
      ],
      "metadata": {
        "id": "-aIjwPJ8gNUC"
      },
      "execution_count": null,
      "outputs": []
    },
    {
      "cell_type": "code",
      "source": [
        "df_train_essay1 = df_train_essays[df_train_essays[\"essay_set\"] == 1]\n",
        "df_train_essay3 = df_train_essays[df_train_essays[\"essay_set\"] == 3]\n",
        "df_train_essay4 = df_train_essays[df_train_essays[\"essay_set\"] == 4]\n",
        "df_train_essay5 = df_train_essays[df_train_essays[\"essay_set\"] == 5]\n",
        "df_train_essay6 = df_train_essays[df_train_essays[\"essay_set\"] == 6]\n",
        "df_train_essay7 = df_train_essays[df_train_essays[\"essay_set\"] == 7]\n",
        "df_train_essay8 = df_train_essays[df_train_essays[\"essay_set\"] == 8]"
      ],
      "metadata": {
        "id": "7PWQ_Vg_g924"
      },
      "execution_count": null,
      "outputs": []
    },
    {
      "cell_type": "code",
      "source": [
        "df_test_essays = pd.read_csv(\"test_set.tsv\", sep=\"\\t\", encoding='latin_1')"
      ],
      "metadata": {
        "id": "6rV7NHrlcMOd"
      },
      "execution_count": null,
      "outputs": []
    },
    {
      "cell_type": "code",
      "source": [
        "df_test_essays = df_test_essays.drop([\"domain1_predictionid\", \"domain2_predictionid\"], axis = 1)"
      ],
      "metadata": {
        "id": "8zRwvXzIdRvp"
      },
      "execution_count": null,
      "outputs": []
    },
    {
      "cell_type": "code",
      "source": [
        "df_train_essay1 = df_train_essay1.drop([\"essay_set\", \"rater1_domain2\", \"rater2_domain2\", \"domain2_score\", \"rater1_trait1\", \"rater1_trait2\", \"rater1_trait3\", \"rater1_trait4\", \"rater1_trait5\", \"rater2_trait3\", \"rater2_trait4\", \"rater2_trait5\", \"rater2_trait6\", \"rater3_trait1\", \"rater3_trait2\", \"rater3_trait3\", \"rater3_trait4\", \"rater3_trait5\", \"rater3_trait6\", \"rater1_trait6\", \"rater2_trait1\", \"rater2_trait2\"], axis = 1)"
      ],
      "metadata": {
        "id": "csSYkK3hgCr1"
      },
      "execution_count": null,
      "outputs": []
    },
    {
      "cell_type": "code",
      "source": [
        "df_train_essay1[\"avg_score\"] = df_train_essay1[\"domain1_score\"]/2\n",
        "df_train_essay1[\"pct\"] = df_train_essay1[\"domain1_score\"] /12"
      ],
      "metadata": {
        "id": "uyEbdaU_i6Cz"
      },
      "execution_count": null,
      "outputs": []
    },
    {
      "cell_type": "code",
      "source": [
        "df_train_essay3 = df_train_essay3[[\"essay_id\", \"essay\", \"rater1_domain1\", \"rater2_domain1\"]]\n",
        "df_train_essay3[\"avg_score\"] = 0.5*(df_train_essay3[\"rater1_domain1\"] + df_train_essay3[\"rater2_domain1\"])\n",
        "df_train_essay3[\"pct\"] = df_train_essay3[\"avg_score\"] / 3\n",
        "df_train_essay3[\"domain1_score\"] = df_train_essay3[\"rater1_domain1\"] + df_train_essay3[\"rater2_domain1\"]"
      ],
      "metadata": {
        "id": "CBvVSkDRFmG0"
      },
      "execution_count": null,
      "outputs": []
    },
    {
      "cell_type": "code",
      "source": [
        "df_train_essay4 = df_train_essay4[[\"essay_id\", \"essay\", \"rater1_domain1\", \"rater2_domain1\"]]\n",
        "df_train_essay4[\"avg_score\"] = 0.5*(df_train_essay4[\"rater1_domain1\"] + df_train_essay4[\"rater2_domain1\"])\n",
        "df_train_essay4[\"pct\"] = df_train_essay4[\"avg_score\"] / 3\n",
        "df_train_essay4[\"domain1_score\"] = df_train_essay4[\"rater1_domain1\"] + df_train_essay4[\"rater2_domain1\"]"
      ],
      "metadata": {
        "id": "a73s1FBHG7tC"
      },
      "execution_count": null,
      "outputs": []
    },
    {
      "cell_type": "code",
      "source": [
        "df_train_essay5 = df_train_essay5[[\"essay_id\", \"essay\", \"rater1_domain1\", \"rater2_domain1\"]]\n",
        "df_train_essay5[\"avg_score\"] = 0.5*(df_train_essay5[\"rater1_domain1\"] + df_train_essay5[\"rater2_domain1\"])\n",
        "df_train_essay5[\"pct\"] = df_train_essay5[\"avg_score\"] / 4\n",
        "df_train_essay5[\"domain1_score\"] = df_train_essay5[\"rater1_domain1\"] + df_train_essay5[\"rater2_domain1\"]"
      ],
      "metadata": {
        "id": "HItyqwr-Hg7x",
        "colab": {
          "base_uri": "https://localhost:8080/"
        },
        "outputId": "64f85384-b968-4b04-fd38-87c768cc2fcc"
      },
      "execution_count": null,
      "outputs": [
        {
          "output_type": "stream",
          "name": "stderr",
          "text": [
            "/usr/local/lib/python3.7/dist-packages/ipykernel_launcher.py:2: SettingWithCopyWarning: \n",
            "A value is trying to be set on a copy of a slice from a DataFrame.\n",
            "Try using .loc[row_indexer,col_indexer] = value instead\n",
            "\n",
            "See the caveats in the documentation: https://pandas.pydata.org/pandas-docs/stable/user_guide/indexing.html#returning-a-view-versus-a-copy\n",
            "  \n"
          ]
        }
      ]
    },
    {
      "cell_type": "code",
      "source": [
        "df_train_essay6 = df_train_essay6[[\"essay_id\", \"essay\", \"rater1_domain1\", \"rater2_domain1\"]]\n",
        "df_train_essay6[\"avg_score\"] = 0.5*(df_train_essay6[\"rater1_domain1\"] + df_train_essay6[\"rater2_domain1\"])\n",
        "df_train_essay6[\"pct\"] = df_train_essay6[\"avg_score\"] / 4\n",
        "df_train_essay6[\"domain1_score\"] = df_train_essay6[\"rater1_domain1\"] + df_train_essay6[\"rater2_domain1\"]"
      ],
      "metadata": {
        "id": "tYrDmangIEII",
        "colab": {
          "base_uri": "https://localhost:8080/"
        },
        "outputId": "5d3ba66f-a90a-4f0d-e3da-caa4fe31d630"
      },
      "execution_count": null,
      "outputs": [
        {
          "output_type": "stream",
          "name": "stderr",
          "text": [
            "/usr/local/lib/python3.7/dist-packages/ipykernel_launcher.py:2: SettingWithCopyWarning: \n",
            "A value is trying to be set on a copy of a slice from a DataFrame.\n",
            "Try using .loc[row_indexer,col_indexer] = value instead\n",
            "\n",
            "See the caveats in the documentation: https://pandas.pydata.org/pandas-docs/stable/user_guide/indexing.html#returning-a-view-versus-a-copy\n",
            "  \n"
          ]
        }
      ]
    },
    {
      "cell_type": "code",
      "source": [
        "df_train_essay7 = df_train_essay7[[\"essay_id\", \"essay\", \"rater1_domain1\", \"rater2_domain1\"]]\n",
        "df_train_essay7[\"avg_score\"] = 0.5*(df_train_essay7[\"rater1_domain1\"] + df_train_essay7[\"rater2_domain1\"])\n",
        "df_train_essay7[\"pct\"] = df_train_essay7[\"avg_score\"] / 12\n",
        "df_train_essay7[\"domain1_score\"] = df_train_essay7[\"rater1_domain1\"] + df_train_essay7[\"rater2_domain1\"]"
      ],
      "metadata": {
        "id": "mKLQm3OvIVMt",
        "colab": {
          "base_uri": "https://localhost:8080/"
        },
        "outputId": "ae5cb344-fcb7-47ef-b04f-efd3cd15e0a3"
      },
      "execution_count": null,
      "outputs": [
        {
          "output_type": "stream",
          "name": "stderr",
          "text": [
            "/usr/local/lib/python3.7/dist-packages/ipykernel_launcher.py:2: SettingWithCopyWarning: \n",
            "A value is trying to be set on a copy of a slice from a DataFrame.\n",
            "Try using .loc[row_indexer,col_indexer] = value instead\n",
            "\n",
            "See the caveats in the documentation: https://pandas.pydata.org/pandas-docs/stable/user_guide/indexing.html#returning-a-view-versus-a-copy\n",
            "  \n"
          ]
        }
      ]
    },
    {
      "cell_type": "code",
      "source": [
        "df_train_essay8 = df_train_essay8[[\"essay_id\", \"essay\", \"rater1_domain1\", \"rater2_domain1\"]]\n",
        "df_train_essay8[\"avg_score\"] = 0.5*(df_train_essay8[\"rater1_domain1\"] + df_train_essay8[\"rater2_domain1\"])\n",
        "df_train_essay8[\"pct\"] = df_train_essay8[\"avg_score\"] / 30\n",
        "df_train_essay8[\"domain1_score\"] = df_train_essay8[\"rater1_domain1\"] + df_train_essay8[\"rater2_domain1\"]"
      ],
      "metadata": {
        "id": "2bM3Sk4JI4qr",
        "colab": {
          "base_uri": "https://localhost:8080/"
        },
        "outputId": "d1472026-340e-49af-e515-873da527c9c2"
      },
      "execution_count": null,
      "outputs": [
        {
          "output_type": "stream",
          "name": "stderr",
          "text": [
            "/usr/local/lib/python3.7/dist-packages/ipykernel_launcher.py:2: SettingWithCopyWarning: \n",
            "A value is trying to be set on a copy of a slice from a DataFrame.\n",
            "Try using .loc[row_indexer,col_indexer] = value instead\n",
            "\n",
            "See the caveats in the documentation: https://pandas.pydata.org/pandas-docs/stable/user_guide/indexing.html#returning-a-view-versus-a-copy\n",
            "  \n"
          ]
        }
      ]
    },
    {
      "cell_type": "code",
      "source": [
        "df_train_essay1.to_csv(\"Essay1\")\n",
        "df_train_essay3.to_csv(\"Essay3\")\n",
        "df_train_essay4.to_csv(\"Essay4\")\n",
        "df_train_essay5.to_csv(\"Essay5\")\n",
        "df_train_essay6.to_csv(\"Essay6\")\n",
        "df_train_essay7.to_csv(\"Essay7\")\n",
        "df_train_essay8.to_csv(\"Essay8\")"
      ],
      "metadata": {
        "id": "fBLbSDeMGupF"
      },
      "execution_count": null,
      "outputs": []
    },
    {
      "cell_type": "markdown",
      "source": [
        "Data From API"
      ],
      "metadata": {
        "id": "qgnA4WFsded4"
      }
    },
    {
      "cell_type": "code",
      "source": [
        "import math\n",
        "\n",
        "def get_polarity(df, names):\n",
        "  out_essays = []\n",
        "  out_sentances = []\n",
        "\n",
        "  for index, section in enumerate(df):\n",
        "    counter = 1\n",
        "    print(\"Starting: %s\" % (names[index]))\n",
        "    essay_lst = []\n",
        "\n",
        "    for essay in section[\"essay\"]:\n",
        "      essay_text = {\"text\" : essay}\n",
        "      response = requests.post(\"https://sentim-api.herokuapp.com/api/v1/\", json = essay_text)\n",
        "      response_json = json.loads(response.text)\n",
        "      essay_lst.append(response_json)\n",
        "\n",
        "      time.sleep(0.5)\n",
        "\n",
        "      if counter in [math.floor(len(df[index]) / 4), math.floor(len(df[index]) / 2), math.floor(len(df[index]) / 4) * 3]:\n",
        "        print(\"\\t %f\" % (counter/len(df[index]) * 100))\n",
        "      counter += 1\n",
        "\n",
        "    all_sentences = pd.json_normalize(essay_lst, \"sentences\")\n",
        "    all_essays = pd.json_normalize(essay_lst)\n",
        "\n",
        "    # save polarities to csv\n",
        "    all_essays.to_csv(\"%s_polarities\" % (names[index]))\n",
        "    all_sentences.to_csv(\"%s_polarities_sentences\" % (names[index]))"
      ],
      "metadata": {
        "id": "1IXBdJvkfBIC"
      },
      "execution_count": null,
      "outputs": []
    },
    {
      "cell_type": "code",
      "source": [
        "get_polarity([df_test_essays], [\"test_essays\"])"
      ],
      "metadata": {
        "id": "FHBMFFaeESc9"
      },
      "execution_count": null,
      "outputs": []
    },
    {
      "cell_type": "code",
      "source": [
        "essay_df_lst = [df_train_essay1, df_train_essay3, df_train_essay4, df_train_essay5, df_train_essay6, df_train_essay7, df_train_essay8]\n",
        "essay_names = [\"essay1\", \"essay3\", \"essay4\", \"essay5\", \"essay6\", \"essay7\", \"essay8\"]\n",
        "get_polarity(essay_df_lst, essay_names)"
      ],
      "metadata": {
        "id": "JE0-UvAccJqG",
        "colab": {
          "base_uri": "https://localhost:8080/"
        },
        "outputId": "aed9e26d-08ff-4881-a65c-63d0518fd8da"
      },
      "execution_count": null,
      "outputs": [
        {
          "output_type": "stream",
          "name": "stdout",
          "text": [
            "Starting: essay3\n",
            "\t 24.971031\n",
            "\t 50.000000\n",
            "\t 74.913094\n",
            "Starting: essay4\n",
            "\t 24.971751\n",
            "\t 50.000000\n",
            "\t 74.915254\n",
            "Starting: essay5\n",
            "\t 24.986150\n",
            "\t 49.972299\n",
            "\t 74.958449\n",
            "Starting: essay6\n",
            "\t 25.000000\n",
            "\t 50.000000\n",
            "\t 75.000000\n",
            "Starting: essay7\n",
            "\t 24.984066\n",
            "\t 49.968133\n",
            "\t 74.952199\n",
            "Starting: essay8\n",
            "\t 24.896266\n",
            "\t 49.930844\n",
            "\t 74.688797\n"
          ]
        }
      ]
    }
  ]
}