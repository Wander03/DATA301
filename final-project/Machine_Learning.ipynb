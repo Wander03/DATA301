{
  "nbformat": 4,
  "nbformat_minor": 0,
  "metadata": {
    "colab": {
      "name": "Machine Learning.ipynb",
      "provenance": [],
      "collapsed_sections": [],
      "include_colab_link": true
    },
    "kernelspec": {
      "name": "python3",
      "display_name": "Python 3"
    },
    "language_info": {
      "name": "python"
    }
  },
  "cells": [
    {
      "cell_type": "markdown",
      "metadata": {
        "id": "view-in-github",
        "colab_type": "text"
      },
      "source": [
        "<a href=\"https://colab.research.google.com/github/Wander03/final-project-Wander03/blob/main/Machine_Learning.ipynb\" target=\"_parent\"><img src=\"https://colab.research.google.com/assets/colab-badge.svg\" alt=\"Open In Colab\"/></a>"
      ]
    },
    {
      "cell_type": "code",
      "execution_count": 15,
      "metadata": {
        "id": "to3IhZlTMxkj"
      },
      "outputs": [],
      "source": [
        "import pandas as pd\n",
        "import numpy as np\n",
        "from sklearn.compose import make_column_transformer\n",
        "from sklearn.preprocessing import StandardScaler, OneHotEncoder\n",
        "from sklearn.neighbors import KNeighborsRegressor\n",
        "from sklearn.pipeline import make_pipeline\n",
        "from sklearn.model_selection import GridSearchCV\n",
        "from sklearn.preprocessing import LabelEncoder\n",
        "from sklearn.feature_extraction.text import CountVectorizer\n",
        "from sklearn.feature_extraction.text import TfidfVectorizer\n",
        "from sklearn.model_selection import cross_val_score\n",
        "from sklearn.metrics.pairwise import cosine_similarity, cosine_distances"
      ]
    },
    {
      "cell_type": "code",
      "source": [
        "df_essay1 = pd.read_csv(\"https://www.dropbox.com/s/ofdr4nnxzt3fdw3/Essay1?dl=1\")\n",
        "df_essay3 = pd.read_csv(\"https://www.dropbox.com/s/165nlutpzpsnqqj/Essay3?dl=1\")\n",
        "df_essay4 = pd.read_csv(\"https://www.dropbox.com/s/qwqbtypu3fpxhdr/Essay4?dl=1\")\n",
        "df_essay5 = pd.read_csv(\"https://www.dropbox.com/s/tc6fnp9nqw0srp3/Essay5?dl=1\")\n",
        "df_essay6 = pd.read_csv(\"https://www.dropbox.com/s/1m6g91hf2r9yfcf/Essay6?dl=1\")\n",
        "df_essay7 = pd.read_csv(\"https://www.dropbox.com/s/2rje35hv0vyf8kh/Essay7?dl=1\")\n",
        "df_essay8 = pd.read_csv(\"https://www.dropbox.com/s/vt6cr45qclkyfdt/Essay8?dl=1\")\n",
        "\n",
        "df_test_essays = pd.read_csv(\"https://www.dropbox.com/s/yr8u8t1r2ntkd2o/test_set.tsv?dl=1\", sep=\"\\t\", encoding='latin_1')\n",
        "df_test_essays[\"pct\"] = pd.Series()\n",
        "df_test_essays[\"domain1_score\"] = pd.Series()\n",
        "df_test_essays = df_test_essays.fillna(0)"
      ],
      "metadata": {
        "id": "8pDrpRLal2bM",
        "colab": {
          "base_uri": "https://localhost:8080/"
        },
        "outputId": "903d8e69-08bb-437d-c011-45068a8da0da"
      },
      "execution_count": 16,
      "outputs": [
        {
          "output_type": "stream",
          "name": "stderr",
          "text": [
            "/usr/local/lib/python3.7/dist-packages/ipykernel_launcher.py:10: DeprecationWarning: The default dtype for empty Series will be 'object' instead of 'float64' in a future version. Specify a dtype explicitly to silence this warning.\n",
            "  # Remove the CWD from sys.path while we load stuff.\n",
            "/usr/local/lib/python3.7/dist-packages/ipykernel_launcher.py:11: DeprecationWarning: The default dtype for empty Series will be 'object' instead of 'float64' in a future version. Specify a dtype explicitly to silence this warning.\n",
            "  # This is added back by InteractiveShellApp.init_path()\n"
          ]
        }
      ]
    },
    {
      "cell_type": "code",
      "source": [
        "df_essay1_pol = pd.read_csv(\"https://www.dropbox.com/s/jj74qpet3i0ts8o/essay1_polarities?dl=1\")\n",
        "df_sentences1 = pd.read_csv(\"https://www.dropbox.com/s/7ah1tv7xzsrne3v/essay1_polarities_sentences?dl=1\")\n",
        "df_essay3_pol = pd.read_csv(\"https://www.dropbox.com/s/nvz01h92q809ws4/essay3_polarities?dl=1\")\n",
        "df_sentences3 = pd.read_csv(\"https://www.dropbox.com/s/rv71ij43xkcf7yi/essay3_polarities_sentences?dl=1\")\n",
        "df_essay4_pol = pd.read_csv(\"https://www.dropbox.com/s/kvin3ughndsls7y/essay4_polarities?dl=1\")\n",
        "df_sentences4 = pd.read_csv(\"https://www.dropbox.com/s/5bgwryknwni1478/essay4_polarities_sentences?dl=1\")\n",
        "df_essay5_pol = pd.read_csv(\"https://www.dropbox.com/s/6io0b6vutf6ifkh/essay5_polarities?dl=1\")\n",
        "df_sentences5 = pd.read_csv(\"https://www.dropbox.com/s/ow7f2l4h0j7ahxt/essay5_polarities_sentences?dl=1\")\n",
        "df_essay6_pol = pd.read_csv(\"https://www.dropbox.com/s/lebmv8p541t7rvk/essay6_polarities?dl=1\")\n",
        "df_sentences6 = pd.read_csv(\"https://www.dropbox.com/s/8mksv1jwrhm9pfl/essay6_polarities_sentences?dl=1\")\n",
        "df_essay7_pol = pd.read_csv(\"https://www.dropbox.com/s/jci22czi6lluhty/essay7_polarities?dl=1\")\n",
        "df_sentences7 = pd.read_csv(\"https://www.dropbox.com/s/kzpfrwfpue64zne/essay7_polarities_sentences?dl=1\")\n",
        "df_essay8_pol = pd.read_csv(\"https://www.dropbox.com/s/h5zi92t8hpm96ze/essay8_polarities?dl=1\")\n",
        "df_sentences8 = pd.read_csv(\"https://www.dropbox.com/s/tkppi6twzjv4cmj/essay8_polarities_sentences?dl=1\")\n",
        "\n",
        "df_test_essays_pol = pd.read_csv(\"https://www.dropbox.com/s/01ue5y4v6hex5cm/test_essays_polarities?dl=1\")\n",
        "df_sentencestest = pd.read_csv(\"https://www.dropbox.com/s/tqth1yq1zi7gqw5/test_essays_polarities_sentences?dl=1\")"
      ],
      "metadata": {
        "id": "dgxHPXUZdkaY"
      },
      "execution_count": 17,
      "outputs": []
    },
    {
      "cell_type": "code",
      "source": [
        "def merge_df(df_lst, df_pol_lst, set_lst):\n",
        "  results = []\n",
        "  for index, (df, pol) in enumerate(zip(df_lst, df_pol_lst)):\n",
        "    df[\"essay_set\"] = set_lst[index] \n",
        "    for i in range(len(df)):\n",
        "      df[\"Unnamed: 0\"][i] = i\n",
        "    results.append(df.merge(pol, on=[\"Unnamed: 0\"], how=\"outer\"))\n",
        "  return results"
      ],
      "metadata": {
        "id": "Yx-IxdI15tby"
      },
      "execution_count": 18,
      "outputs": []
    },
    {
      "cell_type": "code",
      "source": [
        "df_lst = [df_essay1, df_essay3, df_essay4, df_essay5, df_essay6, df_essay7, df_essay8]\n",
        "df_pol_lst = [df_essay1_pol, df_essay3_pol, df_essay4_pol, df_essay5_pol, df_essay6_pol, df_essay7_pol, df_essay8_pol]\n",
        "set_lst = [1, 3, 4, 5, 6, 7, 8]\n",
        "\n",
        "merged_lst = merge_df(df_lst, df_pol_lst, set_lst)\n",
        "essay1 = merged_lst[0]\n",
        "essay3 = merged_lst[1]\n",
        "essay4 = merged_lst[2]\n",
        "essay5 = merged_lst[3]\n",
        "essay6 = merged_lst[4]\n",
        "essay7 = merged_lst[5]\n",
        "essay8 = merged_lst[6]\n",
        "\n",
        "df_essay_all = pd.concat([essay1, essay3, essay4, essay5, essay6, essay7, essay8])"
      ],
      "metadata": {
        "colab": {
          "base_uri": "https://localhost:8080/"
        },
        "id": "TxP6stkG6Daz",
        "outputId": "2201d2eb-2a9b-4752-d62f-7ee990f08a5b"
      },
      "execution_count": 19,
      "outputs": [
        {
          "output_type": "stream",
          "name": "stderr",
          "text": [
            "/usr/local/lib/python3.7/dist-packages/ipykernel_launcher.py:6: SettingWithCopyWarning: \n",
            "A value is trying to be set on a copy of a slice from a DataFrame\n",
            "\n",
            "See the caveats in the documentation: https://pandas.pydata.org/pandas-docs/stable/user_guide/indexing.html#returning-a-view-versus-a-copy\n",
            "  \n"
          ]
        }
      ]
    },
    {
      "cell_type": "code",
      "source": [
        "df_test_essays[\"Unnamed: 0\"] = pd.Series()\n",
        "for i in range(len(df_test_essays)):\n",
        "  df_test_essays[\"Unnamed: 0\"][i] =  i"
      ],
      "metadata": {
        "colab": {
          "base_uri": "https://localhost:8080/"
        },
        "id": "ItN-A4rqwLz3",
        "outputId": "1ccdd857-0964-4347-85a6-207c49379c47"
      },
      "execution_count": 20,
      "outputs": [
        {
          "output_type": "stream",
          "name": "stderr",
          "text": [
            "/usr/local/lib/python3.7/dist-packages/ipykernel_launcher.py:1: DeprecationWarning: The default dtype for empty Series will be 'object' instead of 'float64' in a future version. Specify a dtype explicitly to silence this warning.\n",
            "  \"\"\"Entry point for launching an IPython kernel.\n",
            "/usr/local/lib/python3.7/dist-packages/ipykernel_launcher.py:3: SettingWithCopyWarning: \n",
            "A value is trying to be set on a copy of a slice from a DataFrame\n",
            "\n",
            "See the caveats in the documentation: https://pandas.pydata.org/pandas-docs/stable/user_guide/indexing.html#returning-a-view-versus-a-copy\n",
            "  This is separate from the ipykernel package so we can avoid doing imports until\n"
          ]
        }
      ]
    },
    {
      "cell_type": "code",
      "source": [
        "df_test_essays = df_test_essays.merge(df_test_essays_pol, on=[\"Unnamed: 0\"], how=\"outer\")"
      ],
      "metadata": {
        "id": "6Z_f2cvwvx9i"
      },
      "execution_count": 21,
      "outputs": []
    },
    {
      "cell_type": "markdown",
      "source": [
        "-+-+-+-+-+-+-+-+-+-+-+-+-+-+-+-+-+-+-+-+-+-+-+-+-+-+-+-+-+-+-+-+-+-+-+-+-+-+-+-"
      ],
      "metadata": {
        "id": "dnY8fToDMv7x"
      }
    },
    {
      "cell_type": "markdown",
      "source": [
        "**Similar Words**"
      ],
      "metadata": {
        "id": "26nU0MJjCJD2"
      }
    },
    {
      "cell_type": "code",
      "source": [
        "df_test_essays.head(1)"
      ],
      "metadata": {
        "colab": {
          "base_uri": "https://localhost:8080/",
          "height": 159
        },
        "id": "hPhDCxJRklLX",
        "outputId": "5af75053-95ee-4382-aa15-570d5ad79855"
      },
      "execution_count": 22,
      "outputs": [
        {
          "output_type": "execute_result",
          "data": {
            "text/plain": [
              "   essay_id  essay_set                                              essay  \\\n",
              "0      2383          1  I believe that computers have a positive effec...   \n",
              "\n",
              "   domain1_predictionid  domain2_predictionid  pct  domain1_score  Unnamed: 0  \\\n",
              "0                  2383                   0.0  0.0            0.0         0.0   \n",
              "\n",
              "                                           sentences  result.polarity  \\\n",
              "0  [{'sentence': 'I believe that computers have a...             0.12   \n",
              "\n",
              "  result.type  \n",
              "0    positive  "
            ],
            "text/html": [
              "\n",
              "  <div id=\"df-a9ad988d-2aee-464b-b129-991872dca77c\">\n",
              "    <div class=\"colab-df-container\">\n",
              "      <div>\n",
              "<style scoped>\n",
              "    .dataframe tbody tr th:only-of-type {\n",
              "        vertical-align: middle;\n",
              "    }\n",
              "\n",
              "    .dataframe tbody tr th {\n",
              "        vertical-align: top;\n",
              "    }\n",
              "\n",
              "    .dataframe thead th {\n",
              "        text-align: right;\n",
              "    }\n",
              "</style>\n",
              "<table border=\"1\" class=\"dataframe\">\n",
              "  <thead>\n",
              "    <tr style=\"text-align: right;\">\n",
              "      <th></th>\n",
              "      <th>essay_id</th>\n",
              "      <th>essay_set</th>\n",
              "      <th>essay</th>\n",
              "      <th>domain1_predictionid</th>\n",
              "      <th>domain2_predictionid</th>\n",
              "      <th>pct</th>\n",
              "      <th>domain1_score</th>\n",
              "      <th>Unnamed: 0</th>\n",
              "      <th>sentences</th>\n",
              "      <th>result.polarity</th>\n",
              "      <th>result.type</th>\n",
              "    </tr>\n",
              "  </thead>\n",
              "  <tbody>\n",
              "    <tr>\n",
              "      <th>0</th>\n",
              "      <td>2383</td>\n",
              "      <td>1</td>\n",
              "      <td>I believe that computers have a positive effec...</td>\n",
              "      <td>2383</td>\n",
              "      <td>0.0</td>\n",
              "      <td>0.0</td>\n",
              "      <td>0.0</td>\n",
              "      <td>0.0</td>\n",
              "      <td>[{'sentence': 'I believe that computers have a...</td>\n",
              "      <td>0.12</td>\n",
              "      <td>positive</td>\n",
              "    </tr>\n",
              "  </tbody>\n",
              "</table>\n",
              "</div>\n",
              "      <button class=\"colab-df-convert\" onclick=\"convertToInteractive('df-a9ad988d-2aee-464b-b129-991872dca77c')\"\n",
              "              title=\"Convert this dataframe to an interactive table.\"\n",
              "              style=\"display:none;\">\n",
              "        \n",
              "  <svg xmlns=\"http://www.w3.org/2000/svg\" height=\"24px\"viewBox=\"0 0 24 24\"\n",
              "       width=\"24px\">\n",
              "    <path d=\"M0 0h24v24H0V0z\" fill=\"none\"/>\n",
              "    <path d=\"M18.56 5.44l.94 2.06.94-2.06 2.06-.94-2.06-.94-.94-2.06-.94 2.06-2.06.94zm-11 1L8.5 8.5l.94-2.06 2.06-.94-2.06-.94L8.5 2.5l-.94 2.06-2.06.94zm10 10l.94 2.06.94-2.06 2.06-.94-2.06-.94-.94-2.06-.94 2.06-2.06.94z\"/><path d=\"M17.41 7.96l-1.37-1.37c-.4-.4-.92-.59-1.43-.59-.52 0-1.04.2-1.43.59L10.3 9.45l-7.72 7.72c-.78.78-.78 2.05 0 2.83L4 21.41c.39.39.9.59 1.41.59.51 0 1.02-.2 1.41-.59l7.78-7.78 2.81-2.81c.8-.78.8-2.07 0-2.86zM5.41 20L4 18.59l7.72-7.72 1.47 1.35L5.41 20z\"/>\n",
              "  </svg>\n",
              "      </button>\n",
              "      \n",
              "  <style>\n",
              "    .colab-df-container {\n",
              "      display:flex;\n",
              "      flex-wrap:wrap;\n",
              "      gap: 12px;\n",
              "    }\n",
              "\n",
              "    .colab-df-convert {\n",
              "      background-color: #E8F0FE;\n",
              "      border: none;\n",
              "      border-radius: 50%;\n",
              "      cursor: pointer;\n",
              "      display: none;\n",
              "      fill: #1967D2;\n",
              "      height: 32px;\n",
              "      padding: 0 0 0 0;\n",
              "      width: 32px;\n",
              "    }\n",
              "\n",
              "    .colab-df-convert:hover {\n",
              "      background-color: #E2EBFA;\n",
              "      box-shadow: 0px 1px 2px rgba(60, 64, 67, 0.3), 0px 1px 3px 1px rgba(60, 64, 67, 0.15);\n",
              "      fill: #174EA6;\n",
              "    }\n",
              "\n",
              "    [theme=dark] .colab-df-convert {\n",
              "      background-color: #3B4455;\n",
              "      fill: #D2E3FC;\n",
              "    }\n",
              "\n",
              "    [theme=dark] .colab-df-convert:hover {\n",
              "      background-color: #434B5C;\n",
              "      box-shadow: 0px 1px 3px 1px rgba(0, 0, 0, 0.15);\n",
              "      filter: drop-shadow(0px 1px 2px rgba(0, 0, 0, 0.3));\n",
              "      fill: #FFFFFF;\n",
              "    }\n",
              "  </style>\n",
              "\n",
              "      <script>\n",
              "        const buttonEl =\n",
              "          document.querySelector('#df-a9ad988d-2aee-464b-b129-991872dca77c button.colab-df-convert');\n",
              "        buttonEl.style.display =\n",
              "          google.colab.kernel.accessAllowed ? 'block' : 'none';\n",
              "\n",
              "        async function convertToInteractive(key) {\n",
              "          const element = document.querySelector('#df-a9ad988d-2aee-464b-b129-991872dca77c');\n",
              "          const dataTable =\n",
              "            await google.colab.kernel.invokeFunction('convertToInteractive',\n",
              "                                                     [key], {});\n",
              "          if (!dataTable) return;\n",
              "\n",
              "          const docLinkHtml = 'Like what you see? Visit the ' +\n",
              "            '<a target=\"_blank\" href=https://colab.research.google.com/notebooks/data_table.ipynb>data table notebook</a>'\n",
              "            + ' to learn more about interactive tables.';\n",
              "          element.innerHTML = '';\n",
              "          dataTable['output_type'] = 'display_data';\n",
              "          await google.colab.output.renderOutput(dataTable, element);\n",
              "          const docLink = document.createElement('div');\n",
              "          docLink.innerHTML = docLinkHtml;\n",
              "          element.appendChild(docLink);\n",
              "        }\n",
              "      </script>\n",
              "    </div>\n",
              "  </div>\n",
              "  "
            ]
          },
          "metadata": {},
          "execution_count": 22
        }
      ]
    },
    {
      "cell_type": "code",
      "source": [
        "df_essay_all.head(1)"
      ],
      "metadata": {
        "colab": {
          "base_uri": "https://localhost:8080/",
          "height": 159
        },
        "id": "RgEAWrgmhFgq",
        "outputId": "04c9f7bb-462c-4437-efcf-6a2dc4d1d855"
      },
      "execution_count": 23,
      "outputs": [
        {
          "output_type": "execute_result",
          "data": {
            "text/plain": [
              "   Unnamed: 0  essay_id                                              essay  \\\n",
              "0           0         1  Dear local newspaper, I think effects computer...   \n",
              "\n",
              "   rater1_domain1  rater2_domain1  domain1_score  avg_score       pct  \\\n",
              "0               4               4              8        4.0  0.666667   \n",
              "\n",
              "   essay_set                                          sentences  \\\n",
              "0          1  [{'sentence': 'Dear local newspaper, I think e...   \n",
              "\n",
              "   result.polarity result.type  \n",
              "0              0.2    positive  "
            ],
            "text/html": [
              "\n",
              "  <div id=\"df-95afa3e7-2e71-4230-980a-78965d6fb7f7\">\n",
              "    <div class=\"colab-df-container\">\n",
              "      <div>\n",
              "<style scoped>\n",
              "    .dataframe tbody tr th:only-of-type {\n",
              "        vertical-align: middle;\n",
              "    }\n",
              "\n",
              "    .dataframe tbody tr th {\n",
              "        vertical-align: top;\n",
              "    }\n",
              "\n",
              "    .dataframe thead th {\n",
              "        text-align: right;\n",
              "    }\n",
              "</style>\n",
              "<table border=\"1\" class=\"dataframe\">\n",
              "  <thead>\n",
              "    <tr style=\"text-align: right;\">\n",
              "      <th></th>\n",
              "      <th>Unnamed: 0</th>\n",
              "      <th>essay_id</th>\n",
              "      <th>essay</th>\n",
              "      <th>rater1_domain1</th>\n",
              "      <th>rater2_domain1</th>\n",
              "      <th>domain1_score</th>\n",
              "      <th>avg_score</th>\n",
              "      <th>pct</th>\n",
              "      <th>essay_set</th>\n",
              "      <th>sentences</th>\n",
              "      <th>result.polarity</th>\n",
              "      <th>result.type</th>\n",
              "    </tr>\n",
              "  </thead>\n",
              "  <tbody>\n",
              "    <tr>\n",
              "      <th>0</th>\n",
              "      <td>0</td>\n",
              "      <td>1</td>\n",
              "      <td>Dear local newspaper, I think effects computer...</td>\n",
              "      <td>4</td>\n",
              "      <td>4</td>\n",
              "      <td>8</td>\n",
              "      <td>4.0</td>\n",
              "      <td>0.666667</td>\n",
              "      <td>1</td>\n",
              "      <td>[{'sentence': 'Dear local newspaper, I think e...</td>\n",
              "      <td>0.2</td>\n",
              "      <td>positive</td>\n",
              "    </tr>\n",
              "  </tbody>\n",
              "</table>\n",
              "</div>\n",
              "      <button class=\"colab-df-convert\" onclick=\"convertToInteractive('df-95afa3e7-2e71-4230-980a-78965d6fb7f7')\"\n",
              "              title=\"Convert this dataframe to an interactive table.\"\n",
              "              style=\"display:none;\">\n",
              "        \n",
              "  <svg xmlns=\"http://www.w3.org/2000/svg\" height=\"24px\"viewBox=\"0 0 24 24\"\n",
              "       width=\"24px\">\n",
              "    <path d=\"M0 0h24v24H0V0z\" fill=\"none\"/>\n",
              "    <path d=\"M18.56 5.44l.94 2.06.94-2.06 2.06-.94-2.06-.94-.94-2.06-.94 2.06-2.06.94zm-11 1L8.5 8.5l.94-2.06 2.06-.94-2.06-.94L8.5 2.5l-.94 2.06-2.06.94zm10 10l.94 2.06.94-2.06 2.06-.94-2.06-.94-.94-2.06-.94 2.06-2.06.94z\"/><path d=\"M17.41 7.96l-1.37-1.37c-.4-.4-.92-.59-1.43-.59-.52 0-1.04.2-1.43.59L10.3 9.45l-7.72 7.72c-.78.78-.78 2.05 0 2.83L4 21.41c.39.39.9.59 1.41.59.51 0 1.02-.2 1.41-.59l7.78-7.78 2.81-2.81c.8-.78.8-2.07 0-2.86zM5.41 20L4 18.59l7.72-7.72 1.47 1.35L5.41 20z\"/>\n",
              "  </svg>\n",
              "      </button>\n",
              "      \n",
              "  <style>\n",
              "    .colab-df-container {\n",
              "      display:flex;\n",
              "      flex-wrap:wrap;\n",
              "      gap: 12px;\n",
              "    }\n",
              "\n",
              "    .colab-df-convert {\n",
              "      background-color: #E8F0FE;\n",
              "      border: none;\n",
              "      border-radius: 50%;\n",
              "      cursor: pointer;\n",
              "      display: none;\n",
              "      fill: #1967D2;\n",
              "      height: 32px;\n",
              "      padding: 0 0 0 0;\n",
              "      width: 32px;\n",
              "    }\n",
              "\n",
              "    .colab-df-convert:hover {\n",
              "      background-color: #E2EBFA;\n",
              "      box-shadow: 0px 1px 2px rgba(60, 64, 67, 0.3), 0px 1px 3px 1px rgba(60, 64, 67, 0.15);\n",
              "      fill: #174EA6;\n",
              "    }\n",
              "\n",
              "    [theme=dark] .colab-df-convert {\n",
              "      background-color: #3B4455;\n",
              "      fill: #D2E3FC;\n",
              "    }\n",
              "\n",
              "    [theme=dark] .colab-df-convert:hover {\n",
              "      background-color: #434B5C;\n",
              "      box-shadow: 0px 1px 3px 1px rgba(0, 0, 0, 0.15);\n",
              "      filter: drop-shadow(0px 1px 2px rgba(0, 0, 0, 0.3));\n",
              "      fill: #FFFFFF;\n",
              "    }\n",
              "  </style>\n",
              "\n",
              "      <script>\n",
              "        const buttonEl =\n",
              "          document.querySelector('#df-95afa3e7-2e71-4230-980a-78965d6fb7f7 button.colab-df-convert');\n",
              "        buttonEl.style.display =\n",
              "          google.colab.kernel.accessAllowed ? 'block' : 'none';\n",
              "\n",
              "        async function convertToInteractive(key) {\n",
              "          const element = document.querySelector('#df-95afa3e7-2e71-4230-980a-78965d6fb7f7');\n",
              "          const dataTable =\n",
              "            await google.colab.kernel.invokeFunction('convertToInteractive',\n",
              "                                                     [key], {});\n",
              "          if (!dataTable) return;\n",
              "\n",
              "          const docLinkHtml = 'Like what you see? Visit the ' +\n",
              "            '<a target=\"_blank\" href=https://colab.research.google.com/notebooks/data_table.ipynb>data table notebook</a>'\n",
              "            + ' to learn more about interactive tables.';\n",
              "          element.innerHTML = '';\n",
              "          dataTable['output_type'] = 'display_data';\n",
              "          await google.colab.output.renderOutput(dataTable, element);\n",
              "          const docLink = document.createElement('div');\n",
              "          docLink.innerHTML = docLinkHtml;\n",
              "          element.appendChild(docLink);\n",
              "        }\n",
              "      </script>\n",
              "    </div>\n",
              "  </div>\n",
              "  "
            ]
          },
          "metadata": {},
          "execution_count": 23
        }
      ]
    },
    {
      "cell_type": "markdown",
      "source": [
        "-+-+-+-+-+-+-+-+-+-+-+-+-+-+-+-+-+-+-+-+-+-+-+-+-+-+-+-+-+-+-+-+-+-+-+-+-+-+-+-"
      ],
      "metadata": {
        "id": "PTjWF8VHMzEE"
      }
    },
    {
      "cell_type": "markdown",
      "source": [
        "Per Set\n"
      ],
      "metadata": {
        "id": "foVMojtM85KW"
      }
    },
    {
      "cell_type": "code",
      "source": [
        "# Get tf_sparse for each set (to predict score)\n",
        "def get_tf(df_lst, set_lst):\n",
        "  results = []\n",
        "  essays_w_test = []\n",
        "\n",
        "  for index, df in enumerate(df_lst):\n",
        "    essays = pd.concat([df[\"essay\"], df_test_essays[\"essay\"][df_test_essays[\"essay_set\"] == set_lst[index]]])\n",
        "\n",
        "    vec = TfidfVectorizer(norm=None) # Do not normalize.\n",
        "    vec.fit(essays) # This determines the vocabulary.\n",
        "    tf_idf_sparse = vec.transform(essays)\n",
        "\n",
        "    results.append(tf_idf_sparse)\n",
        "\n",
        "    essay_test = pd.concat([df, df_test_essays[df_test_essays[\"essay_set\"] == set_lst[index]]])\n",
        "    essay_test.drop([\"sentences\", \"domain1_predictionid\", \"domain2_predictionid\"], axis=1, inplace=True)\n",
        "    essays_w_test.append(essay_test)\n",
        "\n",
        "  return results, essays_w_test"
      ],
      "metadata": {
        "id": "0iB_J5-2CIj3"
      },
      "execution_count": 24,
      "outputs": []
    },
    {
      "cell_type": "code",
      "source": [
        "df_lst = [essay1, essay3, essay4, essay5, essay6, essay7, essay8]\n",
        "set_lst = [1, 3, 4, 5, 6, 7, 8]\n",
        "tf_sparse_lst, essays_test_lst = get_tf(df_lst, set_lst)"
      ],
      "metadata": {
        "id": "Gfe91FzS7Jhz"
      },
      "execution_count": 25,
      "outputs": []
    },
    {
      "cell_type": "markdown",
      "source": [
        "Find Best k **WARNING TAKES 15 MINS TO RUN**"
      ],
      "metadata": {
        "id": "M6PH1SD05Ry7"
      }
    },
    {
      "cell_type": "code",
      "source": [
        "orig_lst = [df_essay1, df_essay3, df_essay4, df_essay5, df_essay6, df_essay7, df_essay8]\n",
        "# calculate estimate of test error for a value of k\n",
        "def get_cv_error(k):\n",
        "  X = tf_sparse_lst[0][:len(orig_lst[0])]\n",
        "  y = essays_test_lst[0][:len(orig_lst[0])][\"domain1_score\"]\n",
        "  \n",
        "  # define pipeline\n",
        "  pipeline = make_pipeline(\n",
        "      KNeighborsRegressor(n_neighbors=k)\n",
        "  ) \n",
        "  # calculate errors from cross-validation\n",
        "  cv_errs = -cross_val_score(pipeline, X=X, y=y,\n",
        "                             scoring=\"neg_mean_squared_error\", cv=10)\n",
        "  # calculate average of the cross-validation errors\n",
        "  return cv_errs.mean()\n",
        "    \n",
        "ks = pd.Series(range(1, 1000))\n",
        "ks.index = range(1, 1000)\n",
        "test_errs = ks.apply(get_cv_error)\n",
        "\n",
        "test_errs.plot.line()\n",
        "test_errs.sort_values()"
      ],
      "metadata": {
        "colab": {
          "base_uri": "https://localhost:8080/",
          "height": 474
        },
        "id": "FG6t7L7C4s38",
        "outputId": "a61a1a38-5cff-42e0-ccc2-a733bf32ef85"
      },
      "execution_count": 26,
      "outputs": [
        {
          "output_type": "execute_result",
          "data": {
            "text/plain": [
              "999     2.704680\n",
              "998     2.705981\n",
              "997     2.707173\n",
              "996     2.708284\n",
              "995     2.709377\n",
              "         ...    \n",
              "5      13.597906\n",
              "4      13.625953\n",
              "3      13.680664\n",
              "2      13.957329\n",
              "1      14.853236\n",
              "Length: 999, dtype: float64"
            ]
          },
          "metadata": {},
          "execution_count": 26
        },
        {
          "output_type": "display_data",
          "data": {
            "text/plain": [
              "<Figure size 432x288 with 1 Axes>"
            ],
            "image/png": "[encoded data removed]"
          },
          "metadata": {
            "needs_background": "light"
          }
        }
      ]
    },
    {
      "cell_type": "markdown",
      "source": [
        "-+-+-+-+-+-+-+-+-+-+-+-+-+-+-+-+-+-+-+-+-+-+-+-+-+-+-+-+-+-+-+-+-+-+-+-+-+-+-+-"
      ],
      "metadata": {
        "id": "qsgUcFqCM1Fj"
      }
    },
    {
      "cell_type": "markdown",
      "source": [
        "K Nearest Neighbors"
      ],
      "metadata": {
        "id": "inm2LE625S-x"
      }
    },
    {
      "cell_type": "code",
      "source": [
        "# Using K-Nearest with consine\n",
        "def pred_score(df_lst, sparse_lst, orig_lst):\n",
        "\n",
        "  for df, sparse, orig in zip(df_lst, sparse_lst, orig_lst):\n",
        "    # Create 10 Nearest Neighbors Model\n",
        "    X = sparse[:len(orig)]\n",
        "    y = df[:len(orig)][\"domain1_score\"]\n",
        "\n",
        "    # Fit Model\n",
        "    pipeline = make_pipeline(\n",
        "        KNeighborsRegressor(n_neighbors=10, metric=\"cosine\")\n",
        "    )\n",
        "\n",
        "    pipeline.fit(X, y)\n",
        "\n",
        "    # Create Predictions\n",
        "    df[\"prediction_sparse\"] = pipeline.predict(sparse)\n",
        "    df[\"diff_sparse\"] = df[\"prediction_sparse\"] - df[\"domain1_score\"]"
      ],
      "metadata": {
        "id": "wlzuFb4ukMmz"
      },
      "execution_count": 27,
      "outputs": []
    },
    {
      "cell_type": "code",
      "source": [
        "orig_lst = [df_essay1, df_essay3, df_essay4, df_essay5, df_essay6, df_essay7, df_essay8]\n",
        "\n",
        "pred_score(essays_test_lst, tf_sparse_lst, orig_lst)"
      ],
      "metadata": {
        "id": "gmvSMakf5GMq"
      },
      "execution_count": 28,
      "outputs": []
    },
    {
      "cell_type": "code",
      "source": [
        "essays_test_lst[0].head(3)"
      ],
      "metadata": {
        "colab": {
          "base_uri": "https://localhost:8080/",
          "height": 291
        },
        "id": "790ibRu7eDgK",
        "outputId": "6a4e2e26-d9e1-4bd9-c526-43be47997b99"
      },
      "execution_count": 29,
      "outputs": [
        {
          "output_type": "execute_result",
          "data": {
            "text/plain": [
              "   Unnamed: 0  essay_id                                              essay  \\\n",
              "0         0.0         1  Dear local newspaper, I think effects computer...   \n",
              "1         1.0         2  Dear @CAPS1 @CAPS2, I believe that using compu...   \n",
              "2         2.0         3  Dear, @CAPS1 @CAPS2 @CAPS3 More and more peopl...   \n",
              "\n",
              "   rater1_domain1  rater2_domain1  domain1_score  avg_score       pct  \\\n",
              "0             4.0             4.0            8.0        4.0  0.666667   \n",
              "1             5.0             4.0            9.0        4.5  0.750000   \n",
              "2             4.0             3.0            7.0        3.5  0.583333   \n",
              "\n",
              "   essay_set  result.polarity result.type  prediction_sparse  diff_sparse  \n",
              "0          1             0.20    positive                8.8          0.8  \n",
              "1          1             0.17    positive                9.7          0.7  \n",
              "2          1             0.31    positive                8.4          1.4  "
            ],
            "text/html": [
              "\n",
              "  <div id=\"df-3ca981a5-b8ee-484c-ab1f-9e3b98eee83f\">\n",
              "    <div class=\"colab-df-container\">\n",
              "      <div>\n",
              "<style scoped>\n",
              "    .dataframe tbody tr th:only-of-type {\n",
              "        vertical-align: middle;\n",
              "    }\n",
              "\n",
              "    .dataframe tbody tr th {\n",
              "        vertical-align: top;\n",
              "    }\n",
              "\n",
              "    .dataframe thead th {\n",
              "        text-align: right;\n",
              "    }\n",
              "</style>\n",
              "<table border=\"1\" class=\"dataframe\">\n",
              "  <thead>\n",
              "    <tr style=\"text-align: right;\">\n",
              "      <th></th>\n",
              "      <th>Unnamed: 0</th>\n",
              "      <th>essay_id</th>\n",
              "      <th>essay</th>\n",
              "      <th>rater1_domain1</th>\n",
              "      <th>rater2_domain1</th>\n",
              "      <th>domain1_score</th>\n",
              "      <th>avg_score</th>\n",
              "      <th>pct</th>\n",
              "      <th>essay_set</th>\n",
              "      <th>result.polarity</th>\n",
              "      <th>result.type</th>\n",
              "      <th>prediction_sparse</th>\n",
              "      <th>diff_sparse</th>\n",
              "    </tr>\n",
              "  </thead>\n",
              "  <tbody>\n",
              "    <tr>\n",
              "      <th>0</th>\n",
              "      <td>0.0</td>\n",
              "      <td>1</td>\n",
              "      <td>Dear local newspaper, I think effects computer...</td>\n",
              "      <td>4.0</td>\n",
              "      <td>4.0</td>\n",
              "      <td>8.0</td>\n",
              "      <td>4.0</td>\n",
              "      <td>0.666667</td>\n",
              "      <td>1</td>\n",
              "      <td>0.20</td>\n",
              "      <td>positive</td>\n",
              "      <td>8.8</td>\n",
              "      <td>0.8</td>\n",
              "    </tr>\n",
              "    <tr>\n",
              "      <th>1</th>\n",
              "      <td>1.0</td>\n",
              "      <td>2</td>\n",
              "      <td>Dear @CAPS1 @CAPS2, I believe that using compu...</td>\n",
              "      <td>5.0</td>\n",
              "      <td>4.0</td>\n",
              "      <td>9.0</td>\n",
              "      <td>4.5</td>\n",
              "      <td>0.750000</td>\n",
              "      <td>1</td>\n",
              "      <td>0.17</td>\n",
              "      <td>positive</td>\n",
              "      <td>9.7</td>\n",
              "      <td>0.7</td>\n",
              "    </tr>\n",
              "    <tr>\n",
              "      <th>2</th>\n",
              "      <td>2.0</td>\n",
              "      <td>3</td>\n",
              "      <td>Dear, @CAPS1 @CAPS2 @CAPS3 More and more peopl...</td>\n",
              "      <td>4.0</td>\n",
              "      <td>3.0</td>\n",
              "      <td>7.0</td>\n",
              "      <td>3.5</td>\n",
              "      <td>0.583333</td>\n",
              "      <td>1</td>\n",
              "      <td>0.31</td>\n",
              "      <td>positive</td>\n",
              "      <td>8.4</td>\n",
              "      <td>1.4</td>\n",
              "    </tr>\n",
              "  </tbody>\n",
              "</table>\n",
              "</div>\n",
              "      <button class=\"colab-df-convert\" onclick=\"convertToInteractive('df-3ca981a5-b8ee-484c-ab1f-9e3b98eee83f')\"\n",
              "              title=\"Convert this dataframe to an interactive table.\"\n",
              "              style=\"display:none;\">\n",
              "        \n",
              "  <svg xmlns=\"http://www.w3.org/2000/svg\" height=\"24px\"viewBox=\"0 0 24 24\"\n",
              "       width=\"24px\">\n",
              "    <path d=\"M0 0h24v24H0V0z\" fill=\"none\"/>\n",
              "    <path d=\"M18.56 5.44l.94 2.06.94-2.06 2.06-.94-2.06-.94-.94-2.06-.94 2.06-2.06.94zm-11 1L8.5 8.5l.94-2.06 2.06-.94-2.06-.94L8.5 2.5l-.94 2.06-2.06.94zm10 10l.94 2.06.94-2.06 2.06-.94-2.06-.94-.94-2.06-.94 2.06-2.06.94z\"/><path d=\"M17.41 7.96l-1.37-1.37c-.4-.4-.92-.59-1.43-.59-.52 0-1.04.2-1.43.59L10.3 9.45l-7.72 7.72c-.78.78-.78 2.05 0 2.83L4 21.41c.39.39.9.59 1.41.59.51 0 1.02-.2 1.41-.59l7.78-7.78 2.81-2.81c.8-.78.8-2.07 0-2.86zM5.41 20L4 18.59l7.72-7.72 1.47 1.35L5.41 20z\"/>\n",
              "  </svg>\n",
              "      </button>\n",
              "      \n",
              "  <style>\n",
              "    .colab-df-container {\n",
              "      display:flex;\n",
              "      flex-wrap:wrap;\n",
              "      gap: 12px;\n",
              "    }\n",
              "\n",
              "    .colab-df-convert {\n",
              "      background-color: #E8F0FE;\n",
              "      border: none;\n",
              "      border-radius: 50%;\n",
              "      cursor: pointer;\n",
              "      display: none;\n",
              "      fill: #1967D2;\n",
              "      height: 32px;\n",
              "      padding: 0 0 0 0;\n",
              "      width: 32px;\n",
              "    }\n",
              "\n",
              "    .colab-df-convert:hover {\n",
              "      background-color: #E2EBFA;\n",
              "      box-shadow: 0px 1px 2px rgba(60, 64, 67, 0.3), 0px 1px 3px 1px rgba(60, 64, 67, 0.15);\n",
              "      fill: #174EA6;\n",
              "    }\n",
              "\n",
              "    [theme=dark] .colab-df-convert {\n",
              "      background-color: #3B4455;\n",
              "      fill: #D2E3FC;\n",
              "    }\n",
              "\n",
              "    [theme=dark] .colab-df-convert:hover {\n",
              "      background-color: #434B5C;\n",
              "      box-shadow: 0px 1px 3px 1px rgba(0, 0, 0, 0.15);\n",
              "      filter: drop-shadow(0px 1px 2px rgba(0, 0, 0, 0.3));\n",
              "      fill: #FFFFFF;\n",
              "    }\n",
              "  </style>\n",
              "\n",
              "      <script>\n",
              "        const buttonEl =\n",
              "          document.querySelector('#df-3ca981a5-b8ee-484c-ab1f-9e3b98eee83f button.colab-df-convert');\n",
              "        buttonEl.style.display =\n",
              "          google.colab.kernel.accessAllowed ? 'block' : 'none';\n",
              "\n",
              "        async function convertToInteractive(key) {\n",
              "          const element = document.querySelector('#df-3ca981a5-b8ee-484c-ab1f-9e3b98eee83f');\n",
              "          const dataTable =\n",
              "            await google.colab.kernel.invokeFunction('convertToInteractive',\n",
              "                                                     [key], {});\n",
              "          if (!dataTable) return;\n",
              "\n",
              "          const docLinkHtml = 'Like what you see? Visit the ' +\n",
              "            '<a target=\"_blank\" href=https://colab.research.google.com/notebooks/data_table.ipynb>data table notebook</a>'\n",
              "            + ' to learn more about interactive tables.';\n",
              "          element.innerHTML = '';\n",
              "          dataTable['output_type'] = 'display_data';\n",
              "          await google.colab.output.renderOutput(dataTable, element);\n",
              "          const docLink = document.createElement('div');\n",
              "          docLink.innerHTML = docLinkHtml;\n",
              "          element.appendChild(docLink);\n",
              "        }\n",
              "      </script>\n",
              "    </div>\n",
              "  </div>\n",
              "  "
            ]
          },
          "metadata": {},
          "execution_count": 29
        }
      ]
    },
    {
      "cell_type": "markdown",
      "source": [
        "-+-+-+-+-+-+-+-+-+-+-+-+-+-+-+-+-+-+-+-+-+-+-+-+-+-+-+-+-+-+-+-+-+-+-+-+-+-+-+-"
      ],
      "metadata": {
        "id": "hWoAyYbeM1_z"
      }
    },
    {
      "cell_type": "markdown",
      "source": [
        "All at once\n"
      ],
      "metadata": {
        "id": "qykxImp59Kvr"
      }
    },
    {
      "cell_type": "code",
      "source": [
        "df_essay_all = pd.concat([df_essay_all, df_test_essays])\n",
        "df_essay_all.drop([\"sentences\", \"domain1_predictionid\", \"domain2_predictionid\"], axis=1, inplace=True)\n",
        "\n",
        "# get tf_sparse for all essays (to predict pct)\n",
        "essays = df_essay_all[\"essay\"]\n",
        "\n",
        "vec = CountVectorizer()\n",
        "vec.fit(essays) # This determines the vocabulary.   # USE SERIES\n",
        "tf_sparse = vec.transform(essays)"
      ],
      "metadata": {
        "id": "OeG0ufMY5rEo"
      },
      "execution_count": 30,
      "outputs": []
    },
    {
      "cell_type": "code",
      "source": [
        "X = tf_sparse[:11176]\n",
        "y = df_essay_all[:11176][\"pct\"]\n",
        "\n",
        "# Fit Model\n",
        "pipeline = make_pipeline(\n",
        "    KNeighborsRegressor(n_neighbors=10, metric=\"cosine\")\n",
        ")\n",
        "\n",
        "pipeline.fit(X, y)\n",
        "\n",
        "# Create Predictions\n",
        "df_essay_all[\"prediction_sparse\"] = pipeline.predict(tf_sparse)\n",
        "df_essay_all[\"diff_sparse\"] = df_essay_all[\"prediction_sparse\"] - df_essay_all[\"pct\"]"
      ],
      "metadata": {
        "id": "rECQZdm94nD7"
      },
      "execution_count": 31,
      "outputs": []
    },
    {
      "cell_type": "code",
      "source": [
        "df_essay_all.head(3)"
      ],
      "metadata": {
        "colab": {
          "base_uri": "https://localhost:8080/",
          "height": 291
        },
        "id": "VYTn18ZfzjnY",
        "outputId": "e3827a5d-1d14-4887-c7e2-5639ada129b5"
      },
      "execution_count": 32,
      "outputs": [
        {
          "output_type": "execute_result",
          "data": {
            "text/plain": [
              "   Unnamed: 0  essay_id                                              essay  \\\n",
              "0         0.0         1  Dear local newspaper, I think effects computer...   \n",
              "1         1.0         2  Dear @CAPS1 @CAPS2, I believe that using compu...   \n",
              "2         2.0         3  Dear, @CAPS1 @CAPS2 @CAPS3 More and more peopl...   \n",
              "\n",
              "   rater1_domain1  rater2_domain1  domain1_score  avg_score       pct  \\\n",
              "0             4.0             4.0            8.0        4.0  0.666667   \n",
              "1             5.0             4.0            9.0        4.5  0.750000   \n",
              "2             4.0             3.0            7.0        3.5  0.583333   \n",
              "\n",
              "   essay_set  result.polarity result.type  prediction_sparse  diff_sparse  \n",
              "0          1             0.20    positive           0.783333     0.116667  \n",
              "1          1             0.17    positive           0.783333     0.033333  \n",
              "2          1             0.31    positive           0.833333     0.250000  "
            ],
            "text/html": [
              "\n",
              "  <div id=\"df-a5d9647b-d832-47b4-abb6-9ca5293d7370\">\n",
              "    <div class=\"colab-df-container\">\n",
              "      <div>\n",
              "<style scoped>\n",
              "    .dataframe tbody tr th:only-of-type {\n",
              "        vertical-align: middle;\n",
              "    }\n",
              "\n",
              "    .dataframe tbody tr th {\n",
              "        vertical-align: top;\n",
              "    }\n",
              "\n",
              "    .dataframe thead th {\n",
              "        text-align: right;\n",
              "    }\n",
              "</style>\n",
              "<table border=\"1\" class=\"dataframe\">\n",
              "  <thead>\n",
              "    <tr style=\"text-align: right;\">\n",
              "      <th></th>\n",
              "      <th>Unnamed: 0</th>\n",
              "      <th>essay_id</th>\n",
              "      <th>essay</th>\n",
              "      <th>rater1_domain1</th>\n",
              "      <th>rater2_domain1</th>\n",
              "      <th>domain1_score</th>\n",
              "      <th>avg_score</th>\n",
              "      <th>pct</th>\n",
              "      <th>essay_set</th>\n",
              "      <th>result.polarity</th>\n",
              "      <th>result.type</th>\n",
              "      <th>prediction_sparse</th>\n",
              "      <th>diff_sparse</th>\n",
              "    </tr>\n",
              "  </thead>\n",
              "  <tbody>\n",
              "    <tr>\n",
              "      <th>0</th>\n",
              "      <td>0.0</td>\n",
              "      <td>1</td>\n",
              "      <td>Dear local newspaper, I think effects computer...</td>\n",
              "      <td>4.0</td>\n",
              "      <td>4.0</td>\n",
              "      <td>8.0</td>\n",
              "      <td>4.0</td>\n",
              "      <td>0.666667</td>\n",
              "      <td>1</td>\n",
              "      <td>0.20</td>\n",
              "      <td>positive</td>\n",
              "      <td>0.783333</td>\n",
              "      <td>0.116667</td>\n",
              "    </tr>\n",
              "    <tr>\n",
              "      <th>1</th>\n",
              "      <td>1.0</td>\n",
              "      <td>2</td>\n",
              "      <td>Dear @CAPS1 @CAPS2, I believe that using compu...</td>\n",
              "      <td>5.0</td>\n",
              "      <td>4.0</td>\n",
              "      <td>9.0</td>\n",
              "      <td>4.5</td>\n",
              "      <td>0.750000</td>\n",
              "      <td>1</td>\n",
              "      <td>0.17</td>\n",
              "      <td>positive</td>\n",
              "      <td>0.783333</td>\n",
              "      <td>0.033333</td>\n",
              "    </tr>\n",
              "    <tr>\n",
              "      <th>2</th>\n",
              "      <td>2.0</td>\n",
              "      <td>3</td>\n",
              "      <td>Dear, @CAPS1 @CAPS2 @CAPS3 More and more peopl...</td>\n",
              "      <td>4.0</td>\n",
              "      <td>3.0</td>\n",
              "      <td>7.0</td>\n",
              "      <td>3.5</td>\n",
              "      <td>0.583333</td>\n",
              "      <td>1</td>\n",
              "      <td>0.31</td>\n",
              "      <td>positive</td>\n",
              "      <td>0.833333</td>\n",
              "      <td>0.250000</td>\n",
              "    </tr>\n",
              "  </tbody>\n",
              "</table>\n",
              "</div>\n",
              "      <button class=\"colab-df-convert\" onclick=\"convertToInteractive('df-a5d9647b-d832-47b4-abb6-9ca5293d7370')\"\n",
              "              title=\"Convert this dataframe to an interactive table.\"\n",
              "              style=\"display:none;\">\n",
              "        \n",
              "  <svg xmlns=\"http://www.w3.org/2000/svg\" height=\"24px\"viewBox=\"0 0 24 24\"\n",
              "       width=\"24px\">\n",
              "    <path d=\"M0 0h24v24H0V0z\" fill=\"none\"/>\n",
              "    <path d=\"M18.56 5.44l.94 2.06.94-2.06 2.06-.94-2.06-.94-.94-2.06-.94 2.06-2.06.94zm-11 1L8.5 8.5l.94-2.06 2.06-.94-2.06-.94L8.5 2.5l-.94 2.06-2.06.94zm10 10l.94 2.06.94-2.06 2.06-.94-2.06-.94-.94-2.06-.94 2.06-2.06.94z\"/><path d=\"M17.41 7.96l-1.37-1.37c-.4-.4-.92-.59-1.43-.59-.52 0-1.04.2-1.43.59L10.3 9.45l-7.72 7.72c-.78.78-.78 2.05 0 2.83L4 21.41c.39.39.9.59 1.41.59.51 0 1.02-.2 1.41-.59l7.78-7.78 2.81-2.81c.8-.78.8-2.07 0-2.86zM5.41 20L4 18.59l7.72-7.72 1.47 1.35L5.41 20z\"/>\n",
              "  </svg>\n",
              "      </button>\n",
              "      \n",
              "  <style>\n",
              "    .colab-df-container {\n",
              "      display:flex;\n",
              "      flex-wrap:wrap;\n",
              "      gap: 12px;\n",
              "    }\n",
              "\n",
              "    .colab-df-convert {\n",
              "      background-color: #E8F0FE;\n",
              "      border: none;\n",
              "      border-radius: 50%;\n",
              "      cursor: pointer;\n",
              "      display: none;\n",
              "      fill: #1967D2;\n",
              "      height: 32px;\n",
              "      padding: 0 0 0 0;\n",
              "      width: 32px;\n",
              "    }\n",
              "\n",
              "    .colab-df-convert:hover {\n",
              "      background-color: #E2EBFA;\n",
              "      box-shadow: 0px 1px 2px rgba(60, 64, 67, 0.3), 0px 1px 3px 1px rgba(60, 64, 67, 0.15);\n",
              "      fill: #174EA6;\n",
              "    }\n",
              "\n",
              "    [theme=dark] .colab-df-convert {\n",
              "      background-color: #3B4455;\n",
              "      fill: #D2E3FC;\n",
              "    }\n",
              "\n",
              "    [theme=dark] .colab-df-convert:hover {\n",
              "      background-color: #434B5C;\n",
              "      box-shadow: 0px 1px 3px 1px rgba(0, 0, 0, 0.15);\n",
              "      filter: drop-shadow(0px 1px 2px rgba(0, 0, 0, 0.3));\n",
              "      fill: #FFFFFF;\n",
              "    }\n",
              "  </style>\n",
              "\n",
              "      <script>\n",
              "        const buttonEl =\n",
              "          document.querySelector('#df-a5d9647b-d832-47b4-abb6-9ca5293d7370 button.colab-df-convert');\n",
              "        buttonEl.style.display =\n",
              "          google.colab.kernel.accessAllowed ? 'block' : 'none';\n",
              "\n",
              "        async function convertToInteractive(key) {\n",
              "          const element = document.querySelector('#df-a5d9647b-d832-47b4-abb6-9ca5293d7370');\n",
              "          const dataTable =\n",
              "            await google.colab.kernel.invokeFunction('convertToInteractive',\n",
              "                                                     [key], {});\n",
              "          if (!dataTable) return;\n",
              "\n",
              "          const docLinkHtml = 'Like what you see? Visit the ' +\n",
              "            '<a target=\"_blank\" href=https://colab.research.google.com/notebooks/data_table.ipynb>data table notebook</a>'\n",
              "            + ' to learn more about interactive tables.';\n",
              "          element.innerHTML = '';\n",
              "          dataTable['output_type'] = 'display_data';\n",
              "          await google.colab.output.renderOutput(dataTable, element);\n",
              "          const docLink = document.createElement('div');\n",
              "          docLink.innerHTML = docLinkHtml;\n",
              "          element.appendChild(docLink);\n",
              "        }\n",
              "      </script>\n",
              "    </div>\n",
              "  </div>\n",
              "  "
            ]
          },
          "metadata": {},
          "execution_count": 32
        }
      ]
    },
    {
      "cell_type": "markdown",
      "source": [
        "-+-+-+-+-+-+-+-+-+-+-+-+-+-+-+-+-+-+-+-+-+-+-+-+-+-+-+-+-+-+-+-+-+-+-+-+-+-+-+-"
      ],
      "metadata": {
        "id": "UvQusExgMn3k"
      }
    },
    {
      "cell_type": "markdown",
      "source": [
        "Polarity"
      ],
      "metadata": {
        "id": "QgS6Thbvrt3g"
      }
    },
    {
      "cell_type": "markdown",
      "source": [
        "Per set"
      ],
      "metadata": {
        "id": "kyr0VZd7M6zm"
      }
    },
    {
      "cell_type": "code",
      "source": [
        "orig_lst = [df_essay1, df_essay3, df_essay4, df_essay5, df_essay6, df_essay7, df_essay8]\n",
        "# calculate estimate of test error for a value of k\n",
        "def get_cv_error(k):\n",
        "  X = essays_test_lst[0][:len(orig_lst[0])][[\"result.polarity\", \"result.type\"]]\n",
        "  y = essays_test_lst[0][:len(orig_lst[0])][\"domain1_score\"]\n",
        "  \n",
        "  # define pipeline\n",
        "  ct = make_column_transformer(\n",
        "      (OneHotEncoder(), [\"result.type\"]),\n",
        "      remainder=\"passthrough\",\n",
        "  )\n",
        "\n",
        "  pipeline = make_pipeline(\n",
        "      ct,\n",
        "      StandardScaler(),\n",
        "      KNeighborsRegressor(n_neighbors=k)\n",
        "  ) \n",
        "  # calculate errors from cross-validation\n",
        "  cv_errs = -cross_val_score(pipeline, X=X, y=y,\n",
        "                             scoring=\"neg_mean_squared_error\", cv=10)\n",
        "  # calculate average of the cross-validation errors\n",
        "  return cv_errs.mean()\n",
        "    \n",
        "ks = pd.Series(range(1, 30))\n",
        "ks.index = range(1, 30)\n",
        "test_errs = ks.apply(get_cv_error)\n",
        "\n",
        "test_errs.plot.line()\n",
        "test_errs.sort_values()"
      ],
      "metadata": {
        "colab": {
          "base_uri": "https://localhost:8080/",
          "height": 786
        },
        "id": "IcsYcYUT8y-F",
        "outputId": "0e5c629d-9e33-404c-aa34-5409dc2d6695"
      },
      "execution_count": 33,
      "outputs": [
        {
          "output_type": "execute_result",
          "data": {
            "text/plain": [
              "29    2.315651\n",
              "28    2.321647\n",
              "27    2.327413\n",
              "26    2.328075\n",
              "25    2.333885\n",
              "23    2.337054\n",
              "22    2.341493\n",
              "24    2.342569\n",
              "21    2.350948\n",
              "15    2.361561\n",
              "19    2.365641\n",
              "20    2.368703\n",
              "17    2.372162\n",
              "16    2.373552\n",
              "18    2.373848\n",
              "14    2.374719\n",
              "13    2.385343\n",
              "12    2.416298\n",
              "11    2.437019\n",
              "10    2.455914\n",
              "9     2.479934\n",
              "8     2.514888\n",
              "7     2.587069\n",
              "6     2.690163\n",
              "5     2.804005\n",
              "4     2.863669\n",
              "3     3.142877\n",
              "2     3.765569\n",
              "1     4.950907\n",
              "dtype: float64"
            ]
          },
          "metadata": {},
          "execution_count": 33
        },
        {
          "output_type": "display_data",
          "data": {
            "text/plain": [
              "<Figure size 432x288 with 1 Axes>"
            ],
            "image/png": "[encoded data removed]"
          },
          "metadata": {
            "needs_background": "light"
          }
        }
      ]
    },
    {
      "cell_type": "code",
      "source": [
        "# Using K-Nearest with consine\n",
        "def pred_score_pol(df_lst, orig_lst):\n",
        "\n",
        "  for df, orig in zip(df_lst, orig_lst):\n",
        "\n",
        "    # Create 10 Nearest Neighbors Model\n",
        "    X = df[:len(orig)][[\"result.polarity\", \"result.type\"]]\n",
        "    y = df[:len(orig)][[\"domain1_score\"]]\n",
        "\n",
        "    # Turn Categorical Variable into Quantatative\n",
        "    ct = make_column_transformer(\n",
        "        (OneHotEncoder(), [\"result.type\"]),\n",
        "        remainder=\"passthrough\",\n",
        "    )\n",
        "\n",
        "    # define pipeline\n",
        "    pipeline_k = make_pipeline(\n",
        "        ct,\n",
        "        StandardScaler(),\n",
        "        KNeighborsRegressor(n_neighbors=5)\n",
        "    ) \n",
        "\n",
        "    # GridSearchCV will replace n_neighbors by values in param_grid.\n",
        "    grid_search = GridSearchCV(pipeline_k,\n",
        "                              param_grid={\"kneighborsregressor__n_neighbors\": range(1, 150)}, # Yes I made sure this works for all the sets\n",
        "                              scoring=\"neg_mean_squared_error\",\n",
        "                              cv=10)\n",
        "    grid_search.fit(X, y)\n",
        "    k = grid_search.best_params_[\"kneighborsregressor__n_neighbors\"]\n",
        "    print(k)\n",
        "\n",
        "    # Fit Model\n",
        "    pipeline = make_pipeline(\n",
        "        ct,\n",
        "        StandardScaler(),\n",
        "        KNeighborsRegressor(n_neighbors=k)\n",
        "    )\n",
        "\n",
        "    pipeline.fit(X, y)\n",
        "\n",
        "    # Create Predictions\n",
        "    df[\"prediction_polarity\"] = pipeline.predict(df)\n",
        "    df[\"diff_polarity\"] = df[\"prediction_polarity\"] - df[\"domain1_score\"]"
      ],
      "metadata": {
        "id": "eIwsOP1U0Vi8"
      },
      "execution_count": 34,
      "outputs": []
    },
    {
      "cell_type": "code",
      "source": [
        "pred_score_pol(essays_test_lst, orig_lst)"
      ],
      "metadata": {
        "colab": {
          "base_uri": "https://localhost:8080/"
        },
        "id": "rxiT09I-0Vi8",
        "outputId": "8fabe5aa-220c-47ea-9af8-bf9879b1b560"
      },
      "execution_count": 35,
      "outputs": [
        {
          "output_type": "stream",
          "name": "stdout",
          "text": [
            "87\n",
            "70\n",
            "82\n",
            "44\n",
            "131\n",
            "104\n",
            "88\n"
          ]
        }
      ]
    },
    {
      "cell_type": "code",
      "source": [
        "essays_test_lst[0].head(3)"
      ],
      "metadata": {
        "colab": {
          "base_uri": "https://localhost:8080/",
          "height": 485
        },
        "id": "RMMKZy8P19wP",
        "outputId": "df4f9079-8ab6-4957-fe23-6eae06edd293"
      },
      "execution_count": 36,
      "outputs": [
        {
          "output_type": "execute_result",
          "data": {
            "text/plain": [
              "   Unnamed: 0  essay_id                                              essay  \\\n",
              "0         0.0         1  Dear local newspaper, I think effects computer...   \n",
              "1         1.0         2  Dear @CAPS1 @CAPS2, I believe that using compu...   \n",
              "2         2.0         3  Dear, @CAPS1 @CAPS2 @CAPS3 More and more peopl...   \n",
              "\n",
              "   rater1_domain1  rater2_domain1  domain1_score  avg_score       pct  \\\n",
              "0             4.0             4.0            8.0        4.0  0.666667   \n",
              "1             5.0             4.0            9.0        4.5  0.750000   \n",
              "2             4.0             3.0            7.0        3.5  0.583333   \n",
              "\n",
              "   essay_set  result.polarity result.type  prediction_sparse  diff_sparse  \\\n",
              "0          1             0.20    positive                8.8          0.8   \n",
              "1          1             0.17    positive                9.7          0.7   \n",
              "2          1             0.31    positive                8.4          1.4   \n",
              "\n",
              "   prediction_polarity  diff_polarity  \n",
              "0             8.367816       0.367816  \n",
              "1             8.540230      -0.459770  \n",
              "2             7.839080       0.839080  "
            ],
            "text/html": [
              "\n",
              "  <div id=\"df-e7857b48-9a5a-484a-90ad-6d9d81ad83f5\">\n",
              "    <div class=\"colab-df-container\">\n",
              "      <div>\n",
              "<style scoped>\n",
              "    .dataframe tbody tr th:only-of-type {\n",
              "        vertical-align: middle;\n",
              "    }\n",
              "\n",
              "    .dataframe tbody tr th {\n",
              "        vertical-align: top;\n",
              "    }\n",
              "\n",
              "    .dataframe thead th {\n",
              "        text-align: right;\n",
              "    }\n",
              "</style>\n",
              "<table border=\"1\" class=\"dataframe\">\n",
              "  <thead>\n",
              "    <tr style=\"text-align: right;\">\n",
              "      <th></th>\n",
              "      <th>Unnamed: 0</th>\n",
              "      <th>essay_id</th>\n",
              "      <th>essay</th>\n",
              "      <th>rater1_domain1</th>\n",
              "      <th>rater2_domain1</th>\n",
              "      <th>domain1_score</th>\n",
              "      <th>avg_score</th>\n",
              "      <th>pct</th>\n",
              "      <th>essay_set</th>\n",
              "      <th>result.polarity</th>\n",
              "      <th>result.type</th>\n",
              "      <th>prediction_sparse</th>\n",
              "      <th>diff_sparse</th>\n",
              "      <th>prediction_polarity</th>\n",
              "      <th>diff_polarity</th>\n",
              "    </tr>\n",
              "  </thead>\n",
              "  <tbody>\n",
              "    <tr>\n",
              "      <th>0</th>\n",
              "      <td>0.0</td>\n",
              "      <td>1</td>\n",
              "      <td>Dear local newspaper, I think effects computer...</td>\n",
              "      <td>4.0</td>\n",
              "      <td>4.0</td>\n",
              "      <td>8.0</td>\n",
              "      <td>4.0</td>\n",
              "      <td>0.666667</td>\n",
              "      <td>1</td>\n",
              "      <td>0.20</td>\n",
              "      <td>positive</td>\n",
              "      <td>8.8</td>\n",
              "      <td>0.8</td>\n",
              "      <td>8.367816</td>\n",
              "      <td>0.367816</td>\n",
              "    </tr>\n",
              "    <tr>\n",
              "      <th>1</th>\n",
              "      <td>1.0</td>\n",
              "      <td>2</td>\n",
              "      <td>Dear @CAPS1 @CAPS2, I believe that using compu...</td>\n",
              "      <td>5.0</td>\n",
              "      <td>4.0</td>\n",
              "      <td>9.0</td>\n",
              "      <td>4.5</td>\n",
              "      <td>0.750000</td>\n",
              "      <td>1</td>\n",
              "      <td>0.17</td>\n",
              "      <td>positive</td>\n",
              "      <td>9.7</td>\n",
              "      <td>0.7</td>\n",
              "      <td>8.540230</td>\n",
              "      <td>-0.459770</td>\n",
              "    </tr>\n",
              "    <tr>\n",
              "      <th>2</th>\n",
              "      <td>2.0</td>\n",
              "      <td>3</td>\n",
              "      <td>Dear, @CAPS1 @CAPS2 @CAPS3 More and more peopl...</td>\n",
              "      <td>4.0</td>\n",
              "      <td>3.0</td>\n",
              "      <td>7.0</td>\n",
              "      <td>3.5</td>\n",
              "      <td>0.583333</td>\n",
              "      <td>1</td>\n",
              "      <td>0.31</td>\n",
              "      <td>positive</td>\n",
              "      <td>8.4</td>\n",
              "      <td>1.4</td>\n",
              "      <td>7.839080</td>\n",
              "      <td>0.839080</td>\n",
              "    </tr>\n",
              "  </tbody>\n",
              "</table>\n",
              "</div>\n",
              "      <button class=\"colab-df-convert\" onclick=\"convertToInteractive('df-e7857b48-9a5a-484a-90ad-6d9d81ad83f5')\"\n",
              "              title=\"Convert this dataframe to an interactive table.\"\n",
              "              style=\"display:none;\">\n",
              "        \n",
              "  <svg xmlns=\"http://www.w3.org/2000/svg\" height=\"24px\"viewBox=\"0 0 24 24\"\n",
              "       width=\"24px\">\n",
              "    <path d=\"M0 0h24v24H0V0z\" fill=\"none\"/>\n",
              "    <path d=\"M18.56 5.44l.94 2.06.94-2.06 2.06-.94-2.06-.94-.94-2.06-.94 2.06-2.06.94zm-11 1L8.5 8.5l.94-2.06 2.06-.94-2.06-.94L8.5 2.5l-.94 2.06-2.06.94zm10 10l.94 2.06.94-2.06 2.06-.94-2.06-.94-.94-2.06-.94 2.06-2.06.94z\"/><path d=\"M17.41 7.96l-1.37-1.37c-.4-.4-.92-.59-1.43-.59-.52 0-1.04.2-1.43.59L10.3 9.45l-7.72 7.72c-.78.78-.78 2.05 0 2.83L4 21.41c.39.39.9.59 1.41.59.51 0 1.02-.2 1.41-.59l7.78-7.78 2.81-2.81c.8-.78.8-2.07 0-2.86zM5.41 20L4 18.59l7.72-7.72 1.47 1.35L5.41 20z\"/>\n",
              "  </svg>\n",
              "      </button>\n",
              "      \n",
              "  <style>\n",
              "    .colab-df-container {\n",
              "      display:flex;\n",
              "      flex-wrap:wrap;\n",
              "      gap: 12px;\n",
              "    }\n",
              "\n",
              "    .colab-df-convert {\n",
              "      background-color: #E8F0FE;\n",
              "      border: none;\n",
              "      border-radius: 50%;\n",
              "      cursor: pointer;\n",
              "      display: none;\n",
              "      fill: #1967D2;\n",
              "      height: 32px;\n",
              "      padding: 0 0 0 0;\n",
              "      width: 32px;\n",
              "    }\n",
              "\n",
              "    .colab-df-convert:hover {\n",
              "      background-color: #E2EBFA;\n",
              "      box-shadow: 0px 1px 2px rgba(60, 64, 67, 0.3), 0px 1px 3px 1px rgba(60, 64, 67, 0.15);\n",
              "      fill: #174EA6;\n",
              "    }\n",
              "\n",
              "    [theme=dark] .colab-df-convert {\n",
              "      background-color: #3B4455;\n",
              "      fill: #D2E3FC;\n",
              "    }\n",
              "\n",
              "    [theme=dark] .colab-df-convert:hover {\n",
              "      background-color: #434B5C;\n",
              "      box-shadow: 0px 1px 3px 1px rgba(0, 0, 0, 0.15);\n",
              "      filter: drop-shadow(0px 1px 2px rgba(0, 0, 0, 0.3));\n",
              "      fill: #FFFFFF;\n",
              "    }\n",
              "  </style>\n",
              "\n",
              "      <script>\n",
              "        const buttonEl =\n",
              "          document.querySelector('#df-e7857b48-9a5a-484a-90ad-6d9d81ad83f5 button.colab-df-convert');\n",
              "        buttonEl.style.display =\n",
              "          google.colab.kernel.accessAllowed ? 'block' : 'none';\n",
              "\n",
              "        async function convertToInteractive(key) {\n",
              "          const element = document.querySelector('#df-e7857b48-9a5a-484a-90ad-6d9d81ad83f5');\n",
              "          const dataTable =\n",
              "            await google.colab.kernel.invokeFunction('convertToInteractive',\n",
              "                                                     [key], {});\n",
              "          if (!dataTable) return;\n",
              "\n",
              "          const docLinkHtml = 'Like what you see? Visit the ' +\n",
              "            '<a target=\"_blank\" href=https://colab.research.google.com/notebooks/data_table.ipynb>data table notebook</a>'\n",
              "            + ' to learn more about interactive tables.';\n",
              "          element.innerHTML = '';\n",
              "          dataTable['output_type'] = 'display_data';\n",
              "          await google.colab.output.renderOutput(dataTable, element);\n",
              "          const docLink = document.createElement('div');\n",
              "          docLink.innerHTML = docLinkHtml;\n",
              "          element.appendChild(docLink);\n",
              "        }\n",
              "      </script>\n",
              "    </div>\n",
              "  </div>\n",
              "  "
            ]
          },
          "metadata": {},
          "execution_count": 36
        }
      ]
    },
    {
      "cell_type": "markdown",
      "source": [
        "-+-+-+-+-+-+-+-+-+-+-+-+-+-+-+-+-+-+-+-+-+-+-+-+-+-+-+-+-+-+-+-+-+-+-+-+-+-+-+-"
      ],
      "metadata": {
        "id": "J8q_zIQXM-El"
      }
    },
    {
      "cell_type": "code",
      "source": [
        "for df in essays_test_lst:\n",
        "  print(df[\"diff_sparse\"].mean())"
      ],
      "metadata": {
        "colab": {
          "base_uri": "https://localhost:8080/"
        },
        "id": "IIL0V8sm3YxC",
        "outputId": "5007c289-1905-4eae-dc50-67e429f5aa3a"
      },
      "execution_count": 37,
      "outputs": [
        {
          "output_type": "stream",
          "name": "stdout",
          "text": [
            "2.573832562053007\n",
            "1.2903493449781664\n",
            "0.9704237288135592\n",
            "2.013513513513516\n",
            "2.0712500000000005\n",
            "4.057241720217503\n",
            "10.198051282051287\n"
          ]
        }
      ]
    },
    {
      "cell_type": "code",
      "source": [
        "for df in essays_test_lst:\n",
        "  print(df[\"diff_polarity\"].mean())"
      ],
      "metadata": {
        "colab": {
          "base_uri": "https://localhost:8080/"
        },
        "id": "QurAXWom3g8G",
        "outputId": "535bbc10-1667-4624-ec04-a81f55a9d3eb"
      },
      "execution_count": 38,
      "outputs": [
        {
          "output_type": "stream",
          "name": "stdout",
          "text": [
            "2.155832475011965\n",
            "0.8630879600748597\n",
            "0.6748036378668871\n",
            "1.1207711207711224\n",
            "1.3218193384223909\n",
            "3.6454237803718743\n",
            "9.73111888111888\n"
          ]
        }
      ]
    },
    {
      "cell_type": "markdown",
      "source": [
        "-+-+-+-+-+-+-+-+-+-+-+-+-+-+-+-+-+-+-+-+-+-+-+-+-+-+-+-+-+-+-+-+-+-+-+-+-+-+-+-"
      ],
      "metadata": {
        "id": "tJo0YMnXM3m1"
      }
    },
    {
      "cell_type": "markdown",
      "source": [
        "All at once\n"
      ],
      "metadata": {
        "id": "xlJ_a7-HM4h-"
      }
    },
    {
      "cell_type": "code",
      "source": [
        "# calculate estimate of test error for a value of k\n",
        "def get_cv_error(k):\n",
        "  X = df_essay_all[:11176][[\"result.polarity\", \"result.type\"]]\n",
        "  y = df_essay_all[:11176][\"pct\"]\n",
        "  \n",
        "  # define pipeline\n",
        "  ct = make_column_transformer(\n",
        "      (OneHotEncoder(), [\"result.type\"]),\n",
        "      remainder=\"passthrough\",\n",
        "  )\n",
        "\n",
        "  pipeline = make_pipeline(\n",
        "      ct,\n",
        "      StandardScaler(),\n",
        "      KNeighborsRegressor(n_neighbors=k)\n",
        "  ) \n",
        "  # calculate errors from cross-validation\n",
        "  cv_errs = -cross_val_score(pipeline, X=X, y=y,\n",
        "                             scoring=\"neg_mean_squared_error\", cv=10)\n",
        "  # calculate average of the cross-validation errors\n",
        "  return cv_errs.mean()\n",
        "    \n",
        "ks = pd.Series(range(1, 500))\n",
        "ks.index = range(1, 500)\n",
        "test_errs = ks.apply(get_cv_error)\n",
        "\n",
        "test_errs.plot.line()\n",
        "test_errs.sort_values()"
      ],
      "metadata": {
        "colab": {
          "base_uri": "https://localhost:8080/",
          "height": 475
        },
        "id": "LES2jL7gH2hp",
        "outputId": "2faf3cd6-6eb8-4d62-d5b5-898fc577dbba"
      },
      "execution_count": 39,
      "outputs": [
        {
          "output_type": "execute_result",
          "data": {
            "text/plain": [
              "219    0.052088\n",
              "224    0.052089\n",
              "221    0.052093\n",
              "226    0.052098\n",
              "223    0.052103\n",
              "         ...   \n",
              "4      0.063057\n",
              "6      0.063160\n",
              "3      0.064686\n",
              "2      0.067211\n",
              "1      0.079032\n",
              "Length: 499, dtype: float64"
            ]
          },
          "metadata": {},
          "execution_count": 39
        },
        {
          "output_type": "display_data",
          "data": {
            "text/plain": [
              "<Figure size 432x288 with 1 Axes>"
            ],
            "image/png": "[encoded data removed]"
          },
          "metadata": {
            "needs_background": "light"
          }
        }
      ]
    },
    {
      "cell_type": "code",
      "source": [
        "# Create 10 Nearest Neighbors Model\n",
        "X = df_essay_all[:11176][[\"result.polarity\", \"result.type\"]]\n",
        "y = df_essay_all[:11176][\"pct\"]\n",
        "\n",
        "# Turn Categorical Variable into Quantatative\n",
        "ct = make_column_transformer(\n",
        "    (OneHotEncoder(), [\"result.type\"]),\n",
        "    remainder=\"passthrough\",\n",
        ")\n",
        "\n",
        "# define pipeline\n",
        "pipeline_k = make_pipeline(\n",
        "    ct,\n",
        "    StandardScaler(),\n",
        "    KNeighborsRegressor(n_neighbors=5)\n",
        ") \n",
        "\n",
        "# GridSearchCV will replace n_neighbors by values in param_grid.\n",
        "grid_search = GridSearchCV(pipeline_k,\n",
        "                          param_grid={\"kneighborsregressor__n_neighbors\": range(1, 300)},\n",
        "                          scoring=\"neg_mean_squared_error\",\n",
        "                          cv=10)\n",
        "grid_search.fit(X, y)\n",
        "k = grid_search.best_params_[\"kneighborsregressor__n_neighbors\"]\n",
        "print(k)\n",
        "\n",
        "# Fit Model\n",
        "pipeline = make_pipeline(\n",
        "    ct,\n",
        "    StandardScaler(),\n",
        "    KNeighborsRegressor(n_neighbors=10)\n",
        ")\n",
        "\n",
        "pipeline.fit(X, y)\n",
        "\n",
        "# Create Predictions\n",
        "df_essay_all[\"prediction_polarity\"] = pipeline.predict(df_essay_all)\n",
        "df_essay_all[\"diff_polarity\"] = df_essay_all[\"prediction_polarity\"] - df_essay_all[\"pct\"]"
      ],
      "metadata": {
        "colab": {
          "base_uri": "https://localhost:8080/"
        },
        "id": "-BoD4vX-2qPk",
        "outputId": "88a68861-0f32-44da-b3d9-99c0f9c99fb4"
      },
      "execution_count": 40,
      "outputs": [
        {
          "output_type": "stream",
          "name": "stdout",
          "text": [
            "219\n"
          ]
        }
      ]
    },
    {
      "cell_type": "code",
      "source": [
        "df_essay_all.head(3)"
      ],
      "metadata": {
        "colab": {
          "base_uri": "https://localhost:8080/",
          "height": 485
        },
        "id": "zAPJbWwi2qPk",
        "outputId": "190fc553-93cf-473e-f435-c6b2927120e5"
      },
      "execution_count": 41,
      "outputs": [
        {
          "output_type": "execute_result",
          "data": {
            "text/plain": [
              "   Unnamed: 0  essay_id                                              essay  \\\n",
              "0         0.0         1  Dear local newspaper, I think effects computer...   \n",
              "1         1.0         2  Dear @CAPS1 @CAPS2, I believe that using compu...   \n",
              "2         2.0         3  Dear, @CAPS1 @CAPS2 @CAPS3 More and more peopl...   \n",
              "\n",
              "   rater1_domain1  rater2_domain1  domain1_score  avg_score       pct  \\\n",
              "0             4.0             4.0            8.0        4.0  0.666667   \n",
              "1             5.0             4.0            9.0        4.5  0.750000   \n",
              "2             4.0             3.0            7.0        3.5  0.583333   \n",
              "\n",
              "   essay_set  result.polarity result.type  prediction_sparse  diff_sparse  \\\n",
              "0          1             0.20    positive           0.783333     0.116667   \n",
              "1          1             0.17    positive           0.783333     0.033333   \n",
              "2          1             0.31    positive           0.833333     0.250000   \n",
              "\n",
              "   prediction_polarity  diff_polarity  \n",
              "0                0.675       0.008333  \n",
              "1                0.750       0.000000  \n",
              "2                0.550      -0.033333  "
            ],
            "text/html": [
              "\n",
              "  <div id=\"df-9d52f5de-beac-44a4-af8b-491c6fc9e1d3\">\n",
              "    <div class=\"colab-df-container\">\n",
              "      <div>\n",
              "<style scoped>\n",
              "    .dataframe tbody tr th:only-of-type {\n",
              "        vertical-align: middle;\n",
              "    }\n",
              "\n",
              "    .dataframe tbody tr th {\n",
              "        vertical-align: top;\n",
              "    }\n",
              "\n",
              "    .dataframe thead th {\n",
              "        text-align: right;\n",
              "    }\n",
              "</style>\n",
              "<table border=\"1\" class=\"dataframe\">\n",
              "  <thead>\n",
              "    <tr style=\"text-align: right;\">\n",
              "      <th></th>\n",
              "      <th>Unnamed: 0</th>\n",
              "      <th>essay_id</th>\n",
              "      <th>essay</th>\n",
              "      <th>rater1_domain1</th>\n",
              "      <th>rater2_domain1</th>\n",
              "      <th>domain1_score</th>\n",
              "      <th>avg_score</th>\n",
              "      <th>pct</th>\n",
              "      <th>essay_set</th>\n",
              "      <th>result.polarity</th>\n",
              "      <th>result.type</th>\n",
              "      <th>prediction_sparse</th>\n",
              "      <th>diff_sparse</th>\n",
              "      <th>prediction_polarity</th>\n",
              "      <th>diff_polarity</th>\n",
              "    </tr>\n",
              "  </thead>\n",
              "  <tbody>\n",
              "    <tr>\n",
              "      <th>0</th>\n",
              "      <td>0.0</td>\n",
              "      <td>1</td>\n",
              "      <td>Dear local newspaper, I think effects computer...</td>\n",
              "      <td>4.0</td>\n",
              "      <td>4.0</td>\n",
              "      <td>8.0</td>\n",
              "      <td>4.0</td>\n",
              "      <td>0.666667</td>\n",
              "      <td>1</td>\n",
              "      <td>0.20</td>\n",
              "      <td>positive</td>\n",
              "      <td>0.783333</td>\n",
              "      <td>0.116667</td>\n",
              "      <td>0.675</td>\n",
              "      <td>0.008333</td>\n",
              "    </tr>\n",
              "    <tr>\n",
              "      <th>1</th>\n",
              "      <td>1.0</td>\n",
              "      <td>2</td>\n",
              "      <td>Dear @CAPS1 @CAPS2, I believe that using compu...</td>\n",
              "      <td>5.0</td>\n",
              "      <td>4.0</td>\n",
              "      <td>9.0</td>\n",
              "      <td>4.5</td>\n",
              "      <td>0.750000</td>\n",
              "      <td>1</td>\n",
              "      <td>0.17</td>\n",
              "      <td>positive</td>\n",
              "      <td>0.783333</td>\n",
              "      <td>0.033333</td>\n",
              "      <td>0.750</td>\n",
              "      <td>0.000000</td>\n",
              "    </tr>\n",
              "    <tr>\n",
              "      <th>2</th>\n",
              "      <td>2.0</td>\n",
              "      <td>3</td>\n",
              "      <td>Dear, @CAPS1 @CAPS2 @CAPS3 More and more peopl...</td>\n",
              "      <td>4.0</td>\n",
              "      <td>3.0</td>\n",
              "      <td>7.0</td>\n",
              "      <td>3.5</td>\n",
              "      <td>0.583333</td>\n",
              "      <td>1</td>\n",
              "      <td>0.31</td>\n",
              "      <td>positive</td>\n",
              "      <td>0.833333</td>\n",
              "      <td>0.250000</td>\n",
              "      <td>0.550</td>\n",
              "      <td>-0.033333</td>\n",
              "    </tr>\n",
              "  </tbody>\n",
              "</table>\n",
              "</div>\n",
              "      <button class=\"colab-df-convert\" onclick=\"convertToInteractive('df-9d52f5de-beac-44a4-af8b-491c6fc9e1d3')\"\n",
              "              title=\"Convert this dataframe to an interactive table.\"\n",
              "              style=\"display:none;\">\n",
              "        \n",
              "  <svg xmlns=\"http://www.w3.org/2000/svg\" height=\"24px\"viewBox=\"0 0 24 24\"\n",
              "       width=\"24px\">\n",
              "    <path d=\"M0 0h24v24H0V0z\" fill=\"none\"/>\n",
              "    <path d=\"M18.56 5.44l.94 2.06.94-2.06 2.06-.94-2.06-.94-.94-2.06-.94 2.06-2.06.94zm-11 1L8.5 8.5l.94-2.06 2.06-.94-2.06-.94L8.5 2.5l-.94 2.06-2.06.94zm10 10l.94 2.06.94-2.06 2.06-.94-2.06-.94-.94-2.06-.94 2.06-2.06.94z\"/><path d=\"M17.41 7.96l-1.37-1.37c-.4-.4-.92-.59-1.43-.59-.52 0-1.04.2-1.43.59L10.3 9.45l-7.72 7.72c-.78.78-.78 2.05 0 2.83L4 21.41c.39.39.9.59 1.41.59.51 0 1.02-.2 1.41-.59l7.78-7.78 2.81-2.81c.8-.78.8-2.07 0-2.86zM5.41 20L4 18.59l7.72-7.72 1.47 1.35L5.41 20z\"/>\n",
              "  </svg>\n",
              "      </button>\n",
              "      \n",
              "  <style>\n",
              "    .colab-df-container {\n",
              "      display:flex;\n",
              "      flex-wrap:wrap;\n",
              "      gap: 12px;\n",
              "    }\n",
              "\n",
              "    .colab-df-convert {\n",
              "      background-color: #E8F0FE;\n",
              "      border: none;\n",
              "      border-radius: 50%;\n",
              "      cursor: pointer;\n",
              "      display: none;\n",
              "      fill: #1967D2;\n",
              "      height: 32px;\n",
              "      padding: 0 0 0 0;\n",
              "      width: 32px;\n",
              "    }\n",
              "\n",
              "    .colab-df-convert:hover {\n",
              "      background-color: #E2EBFA;\n",
              "      box-shadow: 0px 1px 2px rgba(60, 64, 67, 0.3), 0px 1px 3px 1px rgba(60, 64, 67, 0.15);\n",
              "      fill: #174EA6;\n",
              "    }\n",
              "\n",
              "    [theme=dark] .colab-df-convert {\n",
              "      background-color: #3B4455;\n",
              "      fill: #D2E3FC;\n",
              "    }\n",
              "\n",
              "    [theme=dark] .colab-df-convert:hover {\n",
              "      background-color: #434B5C;\n",
              "      box-shadow: 0px 1px 3px 1px rgba(0, 0, 0, 0.15);\n",
              "      filter: drop-shadow(0px 1px 2px rgba(0, 0, 0, 0.3));\n",
              "      fill: #FFFFFF;\n",
              "    }\n",
              "  </style>\n",
              "\n",
              "      <script>\n",
              "        const buttonEl =\n",
              "          document.querySelector('#df-9d52f5de-beac-44a4-af8b-491c6fc9e1d3 button.colab-df-convert');\n",
              "        buttonEl.style.display =\n",
              "          google.colab.kernel.accessAllowed ? 'block' : 'none';\n",
              "\n",
              "        async function convertToInteractive(key) {\n",
              "          const element = document.querySelector('#df-9d52f5de-beac-44a4-af8b-491c6fc9e1d3');\n",
              "          const dataTable =\n",
              "            await google.colab.kernel.invokeFunction('convertToInteractive',\n",
              "                                                     [key], {});\n",
              "          if (!dataTable) return;\n",
              "\n",
              "          const docLinkHtml = 'Like what you see? Visit the ' +\n",
              "            '<a target=\"_blank\" href=https://colab.research.google.com/notebooks/data_table.ipynb>data table notebook</a>'\n",
              "            + ' to learn more about interactive tables.';\n",
              "          element.innerHTML = '';\n",
              "          dataTable['output_type'] = 'display_data';\n",
              "          await google.colab.output.renderOutput(dataTable, element);\n",
              "          const docLink = document.createElement('div');\n",
              "          docLink.innerHTML = docLinkHtml;\n",
              "          element.appendChild(docLink);\n",
              "        }\n",
              "      </script>\n",
              "    </div>\n",
              "  </div>\n",
              "  "
            ]
          },
          "metadata": {},
          "execution_count": 41
        }
      ]
    },
    {
      "cell_type": "markdown",
      "source": [
        "-+-+-+-+-+-+-+-+-+-+-+-+-+-+-+-+-+-+-+-+-+-+-+-+-+-+-+-+-+-+-+-+-+-+-+-+-+-+-+-"
      ],
      "metadata": {
        "id": "o08kwHpZM_Fj"
      }
    },
    {
      "cell_type": "code",
      "source": [
        "df_essay_all[\"diff_sparse\"].mean()"
      ],
      "metadata": {
        "colab": {
          "base_uri": "https://localhost:8080/"
        },
        "id": "SQXId_E73Pze",
        "outputId": "dcfd795e-031c-48f4-e21b-5c624dd77c44"
      },
      "execution_count": 42,
      "outputs": [
        {
          "output_type": "execute_result",
          "data": {
            "text/plain": [
              "0.2687665262475694"
            ]
          },
          "metadata": {},
          "execution_count": 42
        }
      ]
    },
    {
      "cell_type": "code",
      "source": [
        "df_essay_all[\"diff_polarity\"].mean()"
      ],
      "metadata": {
        "colab": {
          "base_uri": "https://localhost:8080/"
        },
        "id": "9S2o8mOs3T13",
        "outputId": "43ed2a24-58cc-4446-c27c-f396c40ee57d"
      },
      "execution_count": 43,
      "outputs": [
        {
          "output_type": "execute_result",
          "data": {
            "text/plain": [
              "0.2474820695614652"
            ]
          },
          "metadata": {},
          "execution_count": 43
        }
      ]
    },
    {
      "cell_type": "markdown",
      "source": [
        ""
      ],
      "metadata": {
        "id": "OTNxx41LLYW3"
      }
    },
    {
      "cell_type": "markdown",
      "source": [
        "-+-+-+-+-+-+-+-+-+-+-+-+-+-+-+-+-+-+-+-+-+-+-+-+-+-+-+-+-+-+-+-+-+-+-+-+-+-+-+-"
      ],
      "metadata": {
        "id": "J2HmN_hYM8hT"
      }
    },
    {
      "cell_type": "markdown",
      "source": [
        "Final Model"
      ],
      "metadata": {
        "id": "xUdtHM3jLW0I"
      }
    },
    {
      "cell_type": "code",
      "source": [
        "df_essay_all[\"grade\"] = df_essay_all[\"essay_set\"].map({\n",
        "    1 : 0,\n",
        "    5 : 0,\n",
        "    7 : 0,\n",
        "    3 : 1,\n",
        "    4 : 1,\n",
        "    6 : 1,\n",
        "    8 : 1\n",
        "})\n",
        "\n",
        "df_essay_all[\"type\"] = df_essay_all[\"essay_set\"].map({\n",
        "    1 : 0,\n",
        "    5 : 1,\n",
        "    7 : 0,\n",
        "    3 : 1,\n",
        "    4 : 1,\n",
        "    6 : 1,\n",
        "    8 : 0\n",
        "})\n",
        "\n",
        "df_essay_all = df_essay_all.fillna(0)"
      ],
      "metadata": {
        "id": "Vw2cd8o6LnXB"
      },
      "execution_count": 60,
      "outputs": []
    },
    {
      "cell_type": "markdown",
      "source": [
        "Find best model"
      ],
      "metadata": {
        "id": "btigoZtTOJvW"
      }
    },
    {
      "cell_type": "code",
      "source": [
        "def get_cv_error(features):\n",
        "  # Create 10 Nearest Neighbors Model\n",
        "  X = df_essay_all[:11176][features]\n",
        "  y = df_essay_all[:11176][\"pct\"]\n",
        "\n",
        "  # Turn Categorical Variable into Quantatative\n",
        "  ct = make_column_transformer(\n",
        "      (OneHotEncoder(), [\"result.type\"]),\n",
        "      remainder=\"passthrough\",\n",
        "  )\n",
        "\n",
        "  # Fit Model\n",
        "  pipeline = make_pipeline(\n",
        "      ct,\n",
        "      StandardScaler(),\n",
        "      KNeighborsRegressor(n_neighbors=10)\n",
        "  )\n",
        "\n",
        "  # calculate errors from cross-validation\n",
        "  cv_errs = -cross_val_score(pipeline, X=X, \n",
        "                             y=y,\n",
        "                             scoring=\"neg_mean_squared_error\", cv=10)\n",
        "  # calculate average of the cross-validation errors\n",
        "  return cv_errs.mean()\n",
        "\n",
        "# calculate and store errors for different feature sets\n",
        "errs = pd.Series()\n",
        "for features in [[\"result.polarity\", \"result.type\"],\n",
        "                 [\"result.polarity\", \"result.type\", \"grade\"],\n",
        "                 [\"result.polarity\", \"result.type\", \"type\"],\n",
        "                 [\"result.polarity\", \"result.type\", \"grade\", \"type\"]]:\n",
        "  errs[str(features)] = get_cv_error(features)\n",
        "\n",
        "errs"
      ],
      "metadata": {
        "colab": {
          "base_uri": "https://localhost:8080/"
        },
        "id": "PKHKapViNmuN",
        "outputId": "a5966776-d52e-4217-87f9-e742063f54a5"
      },
      "execution_count": 56,
      "outputs": [
        {
          "output_type": "stream",
          "name": "stderr",
          "text": [
            "/usr/local/lib/python3.7/dist-packages/ipykernel_launcher.py:27: DeprecationWarning: The default dtype for empty Series will be 'object' instead of 'float64' in a future version. Specify a dtype explicitly to silence this warning.\n"
          ]
        },
        {
          "output_type": "execute_result",
          "data": {
            "text/plain": [
              "['result.polarity', 'result.type']                     0.062125\n",
              "['result.polarity', 'result.type', 'grade']            0.052199\n",
              "['result.polarity', 'result.type', 'type']             0.052742\n",
              "['result.polarity', 'result.type', 'grade', 'type']    0.049623\n",
              "dtype: float64"
            ]
          },
          "metadata": {},
          "execution_count": 56
        }
      ]
    },
    {
      "cell_type": "markdown",
      "source": [
        "Use best model"
      ],
      "metadata": {
        "id": "qdLYepQJONT0"
      }
    },
    {
      "cell_type": "code",
      "source": [
        "# Create 10 Nearest Neighbors Model\n",
        "X = df_essay_all[:11176][[\"result.polarity\", \"result.type\", \"grade\", \"type\"]]\n",
        "y = df_essay_all[:11176][\"pct\"]\n",
        "\n",
        "# Turn Categorical Variable into Quantatative\n",
        "ct = make_column_transformer(\n",
        "    (OneHotEncoder(), [\"result.type\"]),\n",
        "    remainder=\"passthrough\",\n",
        ")\n",
        "\n",
        "# define pipeline\n",
        "pipeline_k = make_pipeline(\n",
        "    ct,\n",
        "    StandardScaler(),\n",
        "    KNeighborsRegressor(n_neighbors=5)\n",
        ") \n",
        "\n",
        "# GridSearchCV will replace n_neighbors by values in param_grid.\n",
        "grid_search = GridSearchCV(pipeline_k,\n",
        "                          param_grid={\"kneighborsregressor__n_neighbors\": range(1, 300)},\n",
        "                          scoring=\"neg_mean_squared_error\",\n",
        "                          cv=10)\n",
        "grid_search.fit(X, y)\n",
        "k = grid_search.best_params_[\"kneighborsregressor__n_neighbors\"]\n",
        "print(k)\n",
        "\n",
        "# Fit Model\n",
        "pipeline = make_pipeline(\n",
        "    ct,\n",
        "    StandardScaler(),\n",
        "    KNeighborsRegressor(n_neighbors=10)\n",
        ")\n",
        "\n",
        "pipeline.fit(X, y)\n",
        "\n",
        "# Create Predictions\n",
        "df_essay_all[\"prediction_final\"] = pipeline.predict(df_essay_all)\n",
        "df_essay_all[\"diff_final\"] = df_essay_all[\"prediction_final\"] - df_essay_all[\"pct\"]"
      ],
      "metadata": {
        "colab": {
          "base_uri": "https://localhost:8080/"
        },
        "id": "bGrNiqZDLY2U",
        "outputId": "30fee030-0c77-4b00-bc2a-48a4cc02e58d"
      },
      "execution_count": 62,
      "outputs": [
        {
          "output_type": "stream",
          "name": "stdout",
          "text": [
            "40\n"
          ]
        }
      ]
    },
    {
      "cell_type": "code",
      "source": [
        "df_essay_all[\"diff_final\"].mean()"
      ],
      "metadata": {
        "colab": {
          "base_uri": "https://localhost:8080/"
        },
        "id": "ph-OWSQTTF8f",
        "outputId": "af0f73fe-41da-4c93-b5ab-59edf8f54c20"
      },
      "execution_count": 64,
      "outputs": [
        {
          "output_type": "execute_result",
          "data": {
            "text/plain": [
              "0.1818930654568997"
            ]
          },
          "metadata": {},
          "execution_count": 64
        }
      ]
    }
  ]
}